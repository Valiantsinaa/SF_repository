{
 "cells": [
  {
   "cell_type": "markdown",
   "metadata": {
    "papermill": {
     "duration": 0.029718,
     "end_time": "2020-10-26T12:46:41.276296",
     "exception": false,
     "start_time": "2020-10-26T12:46:41.246578",
     "status": "completed"
    },
    "tags": []
   },
   "source": [
    "<img src=\"https://whatcar.vn/media/2018/09/car-lot-940x470.jpg\"/>\n",
    "\n",
    "## Прогнозирование стоимости автомобиля по его характеристикам"
   ]
  },
  {
   "cell_type": "markdown",
   "metadata": {
    "papermill": {
     "duration": 0.028027,
     "end_time": "2020-10-26T12:46:41.334278",
     "exception": false,
     "start_time": "2020-10-26T12:46:41.306251",
     "status": "completed"
    },
    "tags": []
   },
   "source": [
    "В связи с нехваткой свободного времени я сначала решила, что не успеваю разобраться с парсингом и взяла датасет, собранный Алексеем Титаренко в середине ноября. В итоге, с парсингом я немного разобралась, ноутбук будет на github, но для анализа все равно оставила чужой датасет."
   ]
  },
  {
   "cell_type": "code",
   "execution_count": 1,
   "metadata": {
    "_cell_guid": "b1076dfc-b9ad-4769-8c92-a6c4dae69d19",
    "_uuid": "8f2839f25d086af736a60e9eeb907d3b93b6e0e5",
    "execution": {
     "iopub.execute_input": "2021-11-30T17:56:03.710347Z",
     "iopub.status.busy": "2021-11-30T17:56:03.709913Z",
     "iopub.status.idle": "2021-11-30T17:56:05.337712Z",
     "shell.execute_reply": "2021-11-30T17:56:05.336339Z",
     "shell.execute_reply.started": "2021-11-30T17:56:03.710311Z"
    },
    "papermill": {
     "duration": 1.219772,
     "end_time": "2020-10-26T12:46:42.581597",
     "exception": false,
     "start_time": "2020-10-26T12:46:41.361825",
     "status": "completed"
    },
    "tags": []
   },
   "outputs": [],
   "source": [
    "import numpy as np \n",
    "import pandas as pd \n",
    "import seaborn as sns\n",
    "import matplotlib.pyplot as plt\n",
    "import sys\n",
    "import re\n",
    "import pandas_profiling\n",
    "from sklearn.model_selection import train_test_split, RandomizedSearchCV\n",
    "from sklearn.model_selection import KFold\n",
    "from sklearn.feature_selection import f_regression, mutual_info_regression\n",
    "from sklearn.impute import SimpleImputer\n",
    "from tqdm.notebook import tqdm\n",
    "from catboost import CatBoostRegressor\n",
    "from sklearn.preprocessing import LabelEncoder\n",
    "from sklearn.tree import DecisionTreeRegressor\n",
    "from sklearn.model_selection import RandomizedSearchCV, GridSearchCV\n",
    "from sklearn.ensemble import (RandomForestRegressor, ExtraTreesRegressor, AdaBoostRegressor,\n",
    "GradientBoostingRegressor, BaggingRegressor, StackingRegressor)\n",
    "from sklearn.linear_model import LinearRegression\n",
    "from sklearn.svm import SVR"
   ]
  },
  {
   "cell_type": "code",
   "execution_count": 2,
   "metadata": {
    "execution": {
     "iopub.execute_input": "2021-11-30T17:56:05.340231Z",
     "iopub.status.busy": "2021-11-30T17:56:05.339879Z",
     "iopub.status.idle": "2021-11-30T17:56:05.344502Z",
     "shell.execute_reply": "2021-11-30T17:56:05.343189Z",
     "shell.execute_reply.started": "2021-11-30T17:56:05.340192Z"
    }
   },
   "outputs": [],
   "source": [
    "#pip install lazypredict\n",
    "#!pip install hyperopt"
   ]
  },
  {
   "cell_type": "code",
   "execution_count": 3,
   "metadata": {
    "execution": {
     "iopub.execute_input": "2021-11-30T17:56:05.346299Z",
     "iopub.status.busy": "2021-11-30T17:56:05.345963Z",
     "iopub.status.idle": "2021-11-30T17:56:05.359315Z",
     "shell.execute_reply": "2021-11-30T17:56:05.358370Z",
     "shell.execute_reply.started": "2021-11-30T17:56:05.346259Z"
    }
   },
   "outputs": [],
   "source": [
    "#from lazypredict.Supervised import LazyRegressor\n",
    "#from hpsklearn import HyperoptEstimator\n",
    "#from hpsklearn import any_regressor\n",
    "#from hyperopt import tpe"
   ]
  },
  {
   "cell_type": "code",
   "execution_count": 4,
   "metadata": {
    "_kg_hide-input": true,
    "execution": {
     "iopub.execute_input": "2021-11-30T17:56:13.414788Z",
     "iopub.status.busy": "2021-11-30T17:56:13.414359Z",
     "iopub.status.idle": "2021-11-30T17:56:13.421973Z",
     "shell.execute_reply": "2021-11-30T17:56:13.420982Z",
     "shell.execute_reply.started": "2021-11-30T17:56:13.414736Z"
    },
    "papermill": {
     "duration": 0.040034,
     "end_time": "2020-10-26T12:46:42.650603",
     "exception": false,
     "start_time": "2020-10-26T12:46:42.610569",
     "status": "completed"
    },
    "tags": []
   },
   "outputs": [],
   "source": [
    "print('Python       :', sys.version.split('\\n')[0])\n",
    "print('Numpy        :', np.__version__)"
   ]
  },
  {
   "cell_type": "code",
   "execution_count": 5,
   "metadata": {
    "_kg_hide-input": true,
    "execution": {
     "iopub.execute_input": "2021-11-30T17:56:14.150723Z",
     "iopub.status.busy": "2021-11-30T17:56:14.150309Z",
     "iopub.status.idle": "2021-11-30T17:56:16.230573Z",
     "shell.execute_reply": "2021-11-30T17:56:16.229258Z",
     "shell.execute_reply.started": "2021-11-30T17:56:14.150689Z"
    },
    "papermill": {
     "duration": 5.172536,
     "end_time": "2020-10-26T12:46:47.852593",
     "exception": false,
     "start_time": "2020-10-26T12:46:42.680057",
     "status": "completed"
    },
    "tags": []
   },
   "outputs": [],
   "source": [
    "# зафиксируем версию пакетов, чтобы эксперименты были воспроизводимы:\n",
    "!pip freeze > requirements.txt"
   ]
  },
  {
   "cell_type": "code",
   "execution_count": 6,
   "metadata": {
    "execution": {
     "iopub.execute_input": "2021-11-30T17:56:16.234419Z",
     "iopub.status.busy": "2021-11-30T17:56:16.233906Z",
     "iopub.status.idle": "2021-11-30T17:56:16.239463Z",
     "shell.execute_reply": "2021-11-30T17:56:16.238613Z",
     "shell.execute_reply.started": "2021-11-30T17:56:16.234366Z"
    },
    "papermill": {
     "duration": 0.039842,
     "end_time": "2020-10-26T12:46:47.922434",
     "exception": false,
     "start_time": "2020-10-26T12:46:47.882592",
     "status": "completed"
    },
    "tags": []
   },
   "outputs": [],
   "source": [
    "# всегда фиксируйте RANDOM_SEED, чтобы ваши эксперименты были воспроизводимы!\n",
    "RANDOM_SEED = 42"
   ]
  },
  {
   "cell_type": "code",
   "execution_count": 7,
   "metadata": {
    "_kg_hide-input": true,
    "execution": {
     "iopub.execute_input": "2021-11-30T17:56:16.241132Z",
     "iopub.status.busy": "2021-11-30T17:56:16.240627Z",
     "iopub.status.idle": "2021-11-30T17:56:16.254153Z",
     "shell.execute_reply": "2021-11-30T17:56:16.252931Z",
     "shell.execute_reply.started": "2021-11-30T17:56:16.241095Z"
    }
   },
   "outputs": [],
   "source": [
    "def mape(y_true, y_pred):\n",
    "    return np.mean(np.abs((y_pred-y_true)/y_true))"
   ]
  },
  {
   "cell_type": "markdown",
   "metadata": {},
   "source": [
    "# Setup"
   ]
  },
  {
   "cell_type": "code",
   "execution_count": 8,
   "metadata": {
    "execution": {
     "iopub.execute_input": "2021-11-30T17:56:16.913374Z",
     "iopub.status.busy": "2021-11-30T17:56:16.912867Z",
     "iopub.status.idle": "2021-11-30T17:56:16.919324Z",
     "shell.execute_reply": "2021-11-30T17:56:16.918388Z",
     "shell.execute_reply.started": "2021-11-30T17:56:16.913328Z"
    },
    "papermill": {
     "duration": 0.039969,
     "end_time": "2020-10-26T12:46:48.052728",
     "exception": false,
     "start_time": "2020-10-26T12:46:48.012759",
     "status": "completed"
    },
    "tags": []
   },
   "outputs": [],
   "source": [
    "VERSION    = 16\n",
    "DIR_TRAIN  = '../input/parsing-all-moscow-auto-ru-09-09-2020/' # подключил к ноутбуку внешний датасет\n",
    "DIR_TEST   = '../input/sf-dst-car-price-prediction/'\n",
    "DIR_TRAIN_EXTRA = '../input/parsed-avto/'\n",
    "VAL_SIZE   = 0.20   # 20%"
   ]
  },
  {
   "cell_type": "markdown",
   "metadata": {
    "papermill": {
     "duration": 0.030254,
     "end_time": "2020-10-26T12:46:48.112586",
     "exception": false,
     "start_time": "2020-10-26T12:46:48.082332",
     "status": "completed"
    },
    "tags": []
   },
   "source": [
    "# Data"
   ]
  },
  {
   "cell_type": "code",
   "execution_count": 9,
   "metadata": {
    "execution": {
     "iopub.execute_input": "2021-11-30T17:56:18.031663Z",
     "iopub.status.busy": "2021-11-30T17:56:18.030883Z",
     "iopub.status.idle": "2021-11-30T17:56:18.796452Z",
     "shell.execute_reply": "2021-11-30T17:56:18.795164Z",
     "shell.execute_reply.started": "2021-11-30T17:56:18.031617Z"
    },
    "papermill": {
     "duration": 0.783211,
     "end_time": "2020-10-26T12:46:48.925418",
     "exception": false,
     "start_time": "2020-10-26T12:46:48.142207",
     "status": "completed"
    },
    "tags": []
   },
   "outputs": [],
   "source": [
    "!ls '../input'"
   ]
  },
  {
   "cell_type": "code",
   "execution_count": 10,
   "metadata": {
    "_cell_guid": "79c7e3d0-c299-4dcb-8224-4455121ee9b0",
    "_uuid": "d629ff2d2480ee46fbb7e2d37f6b5fab8052498a",
    "execution": {
     "iopub.execute_input": "2021-11-30T17:56:19.472484Z",
     "iopub.status.busy": "2021-11-30T17:56:19.471998Z",
     "iopub.status.idle": "2021-11-30T17:56:27.769895Z",
     "shell.execute_reply": "2021-11-30T17:56:27.768670Z",
     "shell.execute_reply.started": "2021-11-30T17:56:19.472442Z"
    },
    "papermill": {
     "duration": 13.16556,
     "end_time": "2020-10-26T12:47:02.12133",
     "exception": false,
     "start_time": "2020-10-26T12:46:48.95577",
     "status": "completed"
    },
    "tags": []
   },
   "outputs": [],
   "source": [
    "train = pd.read_csv(DIR_TRAIN+'all_auto_ru_09_09_2020.csv') # датасет для обучения модели\n",
    "train_extra = pd.read_csv(DIR_TRAIN_EXTRA+'Parsed_avto.csv') # дополнительный датасет\n",
    "test = pd.read_csv(DIR_TEST+'test.csv')\n",
    "sample_submission = pd.read_csv(DIR_TEST+'sample_submission.csv')"
   ]
  },
  {
   "cell_type": "code",
   "execution_count": 11,
   "metadata": {
    "execution": {
     "iopub.execute_input": "2021-11-30T17:56:27.772561Z",
     "iopub.status.busy": "2021-11-30T17:56:27.772184Z",
     "iopub.status.idle": "2021-11-30T17:56:27.777943Z",
     "shell.execute_reply": "2021-11-30T17:56:27.776626Z",
     "shell.execute_reply.started": "2021-11-30T17:56:27.772528Z"
    }
   },
   "outputs": [],
   "source": [
    "pd.set_option('display.max_columns', None)"
   ]
  },
  {
   "cell_type": "markdown",
   "metadata": {},
   "source": [
    "## Data Preprocessing"
   ]
  },
  {
   "cell_type": "markdown",
   "metadata": {},
   "source": [
    "Перед объединением датасетов приведем данные к единому виду"
   ]
  },
  {
   "cell_type": "code",
   "execution_count": 12,
   "metadata": {
    "execution": {
     "iopub.execute_input": "2021-11-30T17:57:40.576879Z",
     "iopub.status.busy": "2021-11-30T17:57:40.576439Z",
     "iopub.status.idle": "2021-11-30T17:57:40.586374Z",
     "shell.execute_reply": "2021-11-30T17:57:40.585074Z",
     "shell.execute_reply.started": "2021-11-30T17:57:40.576832Z"
    }
   },
   "outputs": [],
   "source": [
    "# создадим список названий всех колонок\n",
    "all_col = []\n",
    "train_col = train.columns\n",
    "train_extra_col = train_extra.columns\n",
    "test_col = test.columns\n",
    "for col in train_col:\n",
    "    all_col.append(col)\n",
    "for col in train_extra_col:\n",
    "    if col not in all_col:\n",
    "        all_col.append(col)\n",
    "for col in test_col:\n",
    "    if col not in all_col:\n",
    "        all_col.append(col)\n",
    "print(all_col)"
   ]
  },
  {
   "cell_type": "code",
   "execution_count": 13,
   "metadata": {
    "execution": {
     "iopub.execute_input": "2021-11-30T17:57:41.352013Z",
     "iopub.status.busy": "2021-11-30T17:57:41.351440Z",
     "iopub.status.idle": "2021-11-30T17:57:41.360615Z",
     "shell.execute_reply": "2021-11-30T17:57:41.359732Z",
     "shell.execute_reply.started": "2021-11-30T17:57:41.351958Z"
    }
   },
   "outputs": [],
   "source": [
    "train_missing = []\n",
    "for col in all_col:\n",
    "    if col not in train_col:\n",
    "        train_missing.append(col)\n",
    "print('В датасете train нет следующих колонок:', train_missing)"
   ]
  },
  {
   "cell_type": "code",
   "execution_count": 14,
   "metadata": {
    "execution": {
     "iopub.execute_input": "2021-11-30T17:57:42.799390Z",
     "iopub.status.busy": "2021-11-30T17:57:42.798647Z",
     "iopub.status.idle": "2021-11-30T17:57:42.808695Z",
     "shell.execute_reply": "2021-11-30T17:57:42.807367Z",
     "shell.execute_reply.started": "2021-11-30T17:57:42.799333Z"
    }
   },
   "outputs": [],
   "source": [
    "train_extra_missing = []\n",
    "for col in all_col:\n",
    "    if col not in train_extra_col:\n",
    "        train_extra_missing.append(col)\n",
    "print('В датасете train_extra нет следующих колонок:', train_extra_missing)"
   ]
  },
  {
   "cell_type": "code",
   "execution_count": 15,
   "metadata": {
    "execution": {
     "iopub.execute_input": "2021-11-30T17:57:43.299289Z",
     "iopub.status.busy": "2021-11-30T17:57:43.298453Z",
     "iopub.status.idle": "2021-11-30T17:57:43.306605Z",
     "shell.execute_reply": "2021-11-30T17:57:43.305411Z",
     "shell.execute_reply.started": "2021-11-30T17:57:43.299229Z"
    }
   },
   "outputs": [],
   "source": [
    "test_missing = []\n",
    "for col in all_col:\n",
    "    if col not in test_col:\n",
    "        test_missing.append(col)\n",
    "print('В датасете train нет следующих колонок:', test_missing)"
   ]
  },
  {
   "cell_type": "markdown",
   "metadata": {},
   "source": [
    "Теперь посмотрим на сами данные:"
   ]
  },
  {
   "cell_type": "code",
   "execution_count": 16,
   "metadata": {
    "execution": {
     "iopub.execute_input": "2021-11-30T17:57:44.834838Z",
     "iopub.status.busy": "2021-11-30T17:57:44.833971Z",
     "iopub.status.idle": "2021-11-30T17:57:44.896671Z",
     "shell.execute_reply": "2021-11-30T17:57:44.895407Z",
     "shell.execute_reply.started": "2021-11-30T17:57:44.834778Z"
    },
    "papermill": {
     "duration": 0.09378,
     "end_time": "2020-10-26T12:47:02.246755",
     "exception": false,
     "start_time": "2020-10-26T12:47:02.152975",
     "status": "completed"
    },
    "tags": []
   },
   "outputs": [],
   "source": [
    "train"
   ]
  },
  {
   "cell_type": "code",
   "execution_count": 17,
   "metadata": {
    "execution": {
     "iopub.execute_input": "2021-11-30T17:57:45.565820Z",
     "iopub.status.busy": "2021-11-30T17:57:45.565024Z",
     "iopub.status.idle": "2021-11-30T17:57:45.748341Z",
     "shell.execute_reply": "2021-11-30T17:57:45.747065Z",
     "shell.execute_reply.started": "2021-11-30T17:57:45.565745Z"
    },
    "papermill": {
     "duration": 0.22352,
     "end_time": "2020-10-26T12:47:02.502166",
     "exception": false,
     "start_time": "2020-10-26T12:47:02.278646",
     "status": "completed"
    },
    "tags": []
   },
   "outputs": [],
   "source": [
    "train.info()"
   ]
  },
  {
   "cell_type": "code",
   "execution_count": 18,
   "metadata": {
    "execution": {
     "iopub.execute_input": "2021-11-30T17:57:46.696457Z",
     "iopub.status.busy": "2021-11-30T17:57:46.696072Z",
     "iopub.status.idle": "2021-11-30T17:57:46.737298Z",
     "shell.execute_reply": "2021-11-30T17:57:46.736367Z",
     "shell.execute_reply.started": "2021-11-30T17:57:46.696424Z"
    }
   },
   "outputs": [],
   "source": [
    "train_extra.head()"
   ]
  },
  {
   "cell_type": "code",
   "execution_count": 19,
   "metadata": {
    "execution": {
     "iopub.execute_input": "2021-11-30T17:57:47.010580Z",
     "iopub.status.busy": "2021-11-30T17:57:47.010040Z",
     "iopub.status.idle": "2021-11-30T17:57:47.286862Z",
     "shell.execute_reply": "2021-11-30T17:57:47.285601Z",
     "shell.execute_reply.started": "2021-11-30T17:57:47.010546Z"
    }
   },
   "outputs": [],
   "source": [
    "train_extra.info()"
   ]
  },
  {
   "cell_type": "code",
   "execution_count": 20,
   "metadata": {
    "execution": {
     "iopub.execute_input": "2021-11-30T17:57:47.780827Z",
     "iopub.status.busy": "2021-11-30T17:57:47.780176Z",
     "iopub.status.idle": "2021-11-30T17:57:47.821619Z",
     "shell.execute_reply": "2021-11-30T17:57:47.820864Z",
     "shell.execute_reply.started": "2021-11-30T17:57:47.780787Z"
    },
    "papermill": {
     "duration": 0.069985,
     "end_time": "2020-10-26T12:47:02.604497",
     "exception": false,
     "start_time": "2020-10-26T12:47:02.534512",
     "status": "completed"
    },
    "tags": []
   },
   "outputs": [],
   "source": [
    "test.head(5)"
   ]
  },
  {
   "cell_type": "code",
   "execution_count": 21,
   "metadata": {
    "execution": {
     "iopub.execute_input": "2021-11-30T17:57:48.396132Z",
     "iopub.status.busy": "2021-11-30T17:57:48.395556Z",
     "iopub.status.idle": "2021-11-30T17:57:48.510973Z",
     "shell.execute_reply": "2021-11-30T17:57:48.509936Z",
     "shell.execute_reply.started": "2021-11-30T17:57:48.396094Z"
    },
    "papermill": {
     "duration": 0.160401,
     "end_time": "2020-10-26T12:47:02.798587",
     "exception": false,
     "start_time": "2020-10-26T12:47:02.638186",
     "status": "completed"
    },
    "tags": []
   },
   "outputs": [],
   "source": [
    "test.info()"
   ]
  },
  {
   "cell_type": "code",
   "execution_count": 22,
   "metadata": {
    "execution": {
     "iopub.execute_input": "2021-11-30T17:57:49.222779Z",
     "iopub.status.busy": "2021-11-30T17:57:49.222183Z",
     "iopub.status.idle": "2021-11-30T17:57:49.231300Z",
     "shell.execute_reply": "2021-11-30T17:57:49.230461Z",
     "shell.execute_reply.started": "2021-11-30T17:57:49.222729Z"
    }
   },
   "outputs": [],
   "source": [
    "# Данной колонки нет в тренировочном датасете, посмотрим, какие значения она содержит\n",
    "test.priceCurrency.unique()"
   ]
  },
  {
   "cell_type": "code",
   "execution_count": 23,
   "metadata": {
    "execution": {
     "iopub.execute_input": "2021-11-30T17:57:49.854198Z",
     "iopub.status.busy": "2021-11-30T17:57:49.853474Z",
     "iopub.status.idle": "2021-11-30T17:57:49.869278Z",
     "shell.execute_reply": "2021-11-30T17:57:49.868419Z",
     "shell.execute_reply.started": "2021-11-30T17:57:49.854156Z"
    }
   },
   "outputs": [],
   "source": [
    "train_extra.priceCurrency.unique()"
   ]
  },
  {
   "cell_type": "markdown",
   "metadata": {},
   "source": [
    "### Что необходимо сделать:\n",
    "- В датасете train:\n",
    "  * Колонку Комплектация переименовать в complectation_dict, а колонку model в model_name\n",
    "  * Убрать колонки hidden (пустая колонка), start_date (непонятно, что она обозначает и как ее обработать)\n",
    "  * Добавить пустую колонку super_gen (чтобы не пропускать ее при объединении датасетов)\n",
    "  * Добавить колонку vendor и заполнить ее значениями на основании модели машины\n",
    "  * Убрать строки, где нет значения цены, т.к. они будут бесполезны для обучения модели\n",
    "- В датасете train_extra:\n",
    "  * Убрать колонки car_url, image (не выйдет обработать), equipment_dict (содержит информацию, которая уже есть в complectation_dict), model_info (пустая колонка), parsing_unixtime (но будем помнить, что данные были собраны в ноябре 2021 года), priceCurrency (данные собраны с сайта auto.ru и все цены указаны в российских рублях)\n",
    "  * Убрать строки, в которых нет значения цены\n",
    "- В датасете test:\n",
    "  * Убрать колонки car_url, image (не выйдет обработать), equipment_dict (содержит информацию, которая уже есть в complectation_dict), model_info (содержит информацию, которая уже есть в колонке model_name), parsing_unixtime (но будем помнить, что данные были собраны в сентябре 2020 года), priceCurrency\n",
    "  * В данном датасете отсутствует колонка price, т.к. это целевая переменная, но для объединения датасетов добавим ее и заполним нулями\n"
   ]
  },
  {
   "cell_type": "markdown",
   "metadata": {},
   "source": [
    "#### Обработка train"
   ]
  },
  {
   "cell_type": "code",
   "execution_count": 24,
   "metadata": {
    "execution": {
     "iopub.execute_input": "2021-11-30T17:57:51.850943Z",
     "iopub.status.busy": "2021-11-30T17:57:51.850530Z",
     "iopub.status.idle": "2021-11-30T17:57:51.857809Z",
     "shell.execute_reply": "2021-11-30T17:57:51.856303Z",
     "shell.execute_reply.started": "2021-11-30T17:57:51.850909Z"
    }
   },
   "outputs": [],
   "source": [
    "# Переименуем колонки, которые отличаются только названием\n",
    "train.rename(columns = {'Комплектация':'complectation_dict', 'model':'model_name'}, inplace=True)"
   ]
  },
  {
   "cell_type": "code",
   "execution_count": 25,
   "metadata": {
    "execution": {
     "iopub.execute_input": "2021-11-30T17:57:52.732739Z",
     "iopub.status.busy": "2021-11-30T17:57:52.732103Z",
     "iopub.status.idle": "2021-11-30T17:57:52.769670Z",
     "shell.execute_reply": "2021-11-30T17:57:52.768758Z",
     "shell.execute_reply.started": "2021-11-30T17:57:52.732689Z"
    }
   },
   "outputs": [],
   "source": [
    "# Уберем пустые колонки\n",
    "train.drop(['hidden', 'start_date'], axis=1, inplace=True)"
   ]
  },
  {
   "cell_type": "code",
   "execution_count": 26,
   "metadata": {
    "execution": {
     "iopub.execute_input": "2021-11-30T17:57:53.312719Z",
     "iopub.status.busy": "2021-11-30T17:57:53.312167Z",
     "iopub.status.idle": "2021-11-30T17:57:53.320135Z",
     "shell.execute_reply": "2021-11-30T17:57:53.318998Z",
     "shell.execute_reply.started": "2021-11-30T17:57:53.312684Z"
    }
   },
   "outputs": [],
   "source": [
    "# Создадим колонку с пустыми значениями\n",
    "train['super_gen'] = np.NaN"
   ]
  },
  {
   "cell_type": "code",
   "execution_count": 27,
   "metadata": {
    "execution": {
     "iopub.execute_input": "2021-11-30T17:57:53.708457Z",
     "iopub.status.busy": "2021-11-30T17:57:53.707850Z",
     "iopub.status.idle": "2021-11-30T17:57:53.720375Z",
     "shell.execute_reply": "2021-11-30T17:57:53.718984Z",
     "shell.execute_reply.started": "2021-11-30T17:57:53.708404Z"
    }
   },
   "outputs": [],
   "source": [
    "# посмотрим на колонку vendor в тестовой выборке\n",
    "test['vendor'].unique()"
   ]
  },
  {
   "cell_type": "code",
   "execution_count": 28,
   "metadata": {
    "execution": {
     "iopub.execute_input": "2021-11-30T17:57:54.234960Z",
     "iopub.status.busy": "2021-11-30T17:57:54.234156Z",
     "iopub.status.idle": "2021-11-30T17:57:54.276509Z",
     "shell.execute_reply": "2021-11-30T17:57:54.275529Z",
     "shell.execute_reply.started": "2021-11-30T17:57:54.234902Z"
    }
   },
   "outputs": [],
   "source": [
    "# Создадим словарь брендов и производителей на основе тестовой выборки\n",
    "vendor_dict = {k:v for v,k in test.groupby(['vendor', 'brand']).name.count().index}\n",
    "train['vendor'] = train.brand.map(vendor_dict) # заполним столбец\n"
   ]
  },
  {
   "cell_type": "code",
   "execution_count": 29,
   "metadata": {
    "execution": {
     "iopub.execute_input": "2021-11-30T17:57:54.913798Z",
     "iopub.status.busy": "2021-11-30T17:57:54.913231Z",
     "iopub.status.idle": "2021-11-30T17:57:54.939792Z",
     "shell.execute_reply": "2021-11-30T17:57:54.938531Z",
     "shell.execute_reply.started": "2021-11-30T17:57:54.913741Z"
    }
   },
   "outputs": [],
   "source": [
    "train.vendor.value_counts(dropna=False)"
   ]
  },
  {
   "cell_type": "code",
   "execution_count": 30,
   "metadata": {
    "execution": {
     "iopub.execute_input": "2021-11-30T17:57:55.446303Z",
     "iopub.status.busy": "2021-11-30T17:57:55.445701Z",
     "iopub.status.idle": "2021-11-30T17:57:55.544800Z",
     "shell.execute_reply": "2021-11-30T17:57:55.543384Z",
     "shell.execute_reply.started": "2021-11-30T17:57:55.446264Z"
    }
   },
   "outputs": [],
   "source": [
    "# Уберем строки, где отсутствует цена, т.к. это тренировочная выборка\n",
    "train.dropna(subset=['price'], inplace=True)"
   ]
  },
  {
   "cell_type": "markdown",
   "metadata": {},
   "source": [
    "#### Обработка train_extra"
   ]
  },
  {
   "cell_type": "code",
   "execution_count": 31,
   "metadata": {
    "execution": {
     "iopub.execute_input": "2021-11-30T17:57:56.607161Z",
     "iopub.status.busy": "2021-11-30T17:57:56.606748Z",
     "iopub.status.idle": "2021-11-30T17:57:56.635621Z",
     "shell.execute_reply": "2021-11-30T17:57:56.634381Z",
     "shell.execute_reply.started": "2021-11-30T17:57:56.607127Z"
    }
   },
   "outputs": [],
   "source": [
    "# Удалим колонки, которые не понадобятся при обработке\n",
    "train_extra.drop(['car_url', 'image', 'equipment_dict', 'model_info', \n",
    "                  'parsing_unixtime', 'priceCurrency'], axis=1, inplace=True)"
   ]
  },
  {
   "cell_type": "code",
   "execution_count": 32,
   "metadata": {
    "execution": {
     "iopub.execute_input": "2021-11-30T17:57:57.200193Z",
     "iopub.status.busy": "2021-11-30T17:57:57.199808Z",
     "iopub.status.idle": "2021-11-30T17:57:57.239779Z",
     "shell.execute_reply": "2021-11-30T17:57:57.238471Z",
     "shell.execute_reply.started": "2021-11-30T17:57:57.200161Z"
    }
   },
   "outputs": [],
   "source": [
    "# Удалим строки, где не указана цена, т.к. они будут бесполезны для обучения модели\n",
    "train_extra.dropna(subset=['price'],inplace=True)"
   ]
  },
  {
   "cell_type": "markdown",
   "metadata": {},
   "source": [
    "#### Обработка test"
   ]
  },
  {
   "cell_type": "code",
   "execution_count": 33,
   "metadata": {
    "execution": {
     "iopub.execute_input": "2021-11-30T17:57:58.131630Z",
     "iopub.status.busy": "2021-11-30T17:57:58.130957Z",
     "iopub.status.idle": "2021-11-30T17:57:58.147125Z",
     "shell.execute_reply": "2021-11-30T17:57:58.145930Z",
     "shell.execute_reply.started": "2021-11-30T17:57:58.131590Z"
    }
   },
   "outputs": [],
   "source": [
    "test.drop(['car_url', 'image', 'equipment_dict', 'model_info', \n",
    "                  'parsing_unixtime', 'priceCurrency'], axis=1, inplace=True)"
   ]
  },
  {
   "cell_type": "code",
   "execution_count": 34,
   "metadata": {
    "execution": {
     "iopub.execute_input": "2021-11-30T17:57:58.634435Z",
     "iopub.status.busy": "2021-11-30T17:57:58.633671Z",
     "iopub.status.idle": "2021-11-30T17:57:58.641545Z",
     "shell.execute_reply": "2021-11-30T17:57:58.640177Z",
     "shell.execute_reply.started": "2021-11-30T17:57:58.634362Z"
    }
   },
   "outputs": [],
   "source": [
    "# Создадим колонку с ценой, заполненную нулями\n",
    "test['price'] = 0"
   ]
  },
  {
   "cell_type": "markdown",
   "metadata": {},
   "source": [
    "#### Типы данных"
   ]
  },
  {
   "cell_type": "code",
   "execution_count": 35,
   "metadata": {
    "execution": {
     "iopub.execute_input": "2021-11-30T17:57:59.829541Z",
     "iopub.status.busy": "2021-11-30T17:57:59.828915Z",
     "iopub.status.idle": "2021-11-30T17:58:01.057986Z",
     "shell.execute_reply": "2021-11-30T17:58:01.056729Z",
     "shell.execute_reply.started": "2021-11-30T17:57:59.829504Z"
    }
   },
   "outputs": [],
   "source": [
    "# Посмотрим какой тип имею данные в трех датасетах\n",
    "data_types = pd.DataFrame(columns=train.columns, index=['train', 'train_extra', 'test'])\n",
    "for i in data_types.columns:\n",
    "    data_types[i]['train'] = train[i].apply(type)[0]\n",
    "    data_types[i]['train_extra'] = train_extra[i].apply(type)[0]\n",
    "    data_types[i]['test'] = test[i].apply(type)[0]\n",
    "data_types"
   ]
  },
  {
   "cell_type": "markdown",
   "metadata": {},
   "source": [
    "Некоторые переменные имеют разные типы в разных датасетах:\n",
    "- enginePower, Владельцы, Состояние, super_gen имеют тип float в train, str в train_extra и test\n",
    "- complectation_dict имееет тип float в test, str в train и train_extra\n",
    "- Таможня имеет тип bool в train, str в train_extra и test"
   ]
  },
  {
   "cell_type": "markdown",
   "metadata": {},
   "source": [
    "### Объединение датасетов"
   ]
  },
  {
   "cell_type": "code",
   "execution_count": 36,
   "metadata": {
    "execution": {
     "iopub.execute_input": "2021-11-30T17:58:01.703685Z",
     "iopub.status.busy": "2021-11-30T17:58:01.703280Z",
     "iopub.status.idle": "2021-11-30T17:58:01.720513Z",
     "shell.execute_reply": "2021-11-30T17:58:01.719394Z",
     "shell.execute_reply.started": "2021-11-30T17:58:01.703653Z"
    }
   },
   "outputs": [],
   "source": [
    "# Разметим train и test \n",
    "train['train'] = 1\n",
    "train_extra['train'] = 1 \n",
    "test['train'] = 0\n",
    "\n",
    "# Добавим колонку sell_id в тренировочные данные \n",
    "train['sell_id'] = 0  \n",
    "train_extra['sell_id'] = 0 \n",
    "\n",
    "# Обозначим где старые и новые данные\n",
    "train['new_data'] = 0\n",
    "train_extra['new_data'] = 1 \n",
    "test['new_data'] = 0"
   ]
  },
  {
   "cell_type": "code",
   "execution_count": 37,
   "metadata": {
    "execution": {
     "iopub.execute_input": "2021-11-30T17:58:02.651508Z",
     "iopub.status.busy": "2021-11-30T17:58:02.651090Z",
     "iopub.status.idle": "2021-11-30T17:58:02.929858Z",
     "shell.execute_reply": "2021-11-30T17:58:02.928742Z",
     "shell.execute_reply.started": "2021-11-30T17:58:02.651475Z"
    }
   },
   "outputs": [],
   "source": [
    "# Объединяем датасеты для обработки \n",
    "combined_df = pd.concat([test, train, train_extra], join='inner', ignore_index=True)\n",
    "combined_df.head()"
   ]
  },
  {
   "cell_type": "code",
   "execution_count": 38,
   "metadata": {
    "execution": {
     "iopub.execute_input": "2021-11-30T17:58:03.097806Z",
     "iopub.status.busy": "2021-11-30T17:58:03.097405Z",
     "iopub.status.idle": "2021-11-30T17:58:03.731133Z",
     "shell.execute_reply": "2021-11-30T17:58:03.730248Z",
     "shell.execute_reply.started": "2021-11-30T17:58:03.097772Z"
    }
   },
   "outputs": [],
   "source": [
    "combined_df.info()"
   ]
  },
  {
   "cell_type": "code",
   "execution_count": null,
   "metadata": {
    "execution": {
     "iopub.execute_input": "2021-11-30T17:58:03.987103Z",
     "iopub.status.busy": "2021-11-30T17:58:03.986289Z"
    },
    "papermill": {
     "duration": 0.042812,
     "end_time": "2020-10-26T12:47:02.943868",
     "exception": false,
     "start_time": "2020-10-26T12:47:02.901056",
     "status": "completed"
    },
    "tags": []
   },
   "outputs": [],
   "source": [
    "pandas_profiling.ProfileReport(combined_df)"
   ]
  },
  {
   "cell_type": "markdown",
   "metadata": {},
   "source": [
    "### Предварительное заключение:\n",
    "- 18 категориальных, 6 числовых и 2 булевых переменных. Тип данных в 3 столбцах не определен (это столбцы enginePower, Владельцы и Таможня, которые до объединения имели разные типы)\n",
    "- Данные содержат мало дубликатов, но достаточно много пропусков. Особенно много пропусков в super_gen, vendor, Владение, Состояние\n",
    "- Наблюдается сильная корреляция между productionDate и modelDate, modeDate и mileage а также vendor и brand (что логично)"
   ]
  },
  {
   "cell_type": "markdown",
   "metadata": {},
   "source": [
    "## Очистка данных"
   ]
  },
  {
   "cell_type": "markdown",
   "metadata": {},
   "source": [
    "#### bodyType"
   ]
  },
  {
   "cell_type": "code",
   "execution_count": null,
   "metadata": {},
   "outputs": [],
   "source": [
    "combined_df.bodyType.unique()"
   ]
  },
  {
   "cell_type": "markdown",
   "metadata": {},
   "source": [
    "Кроме типа кузова в данном столбце содержится информация о количестве дверей и названии модели, которые содержатся в других столбца. "
   ]
  },
  {
   "cell_type": "code",
   "execution_count": null,
   "metadata": {},
   "outputs": [],
   "source": [
    "# Оставим в столбце только тип кузова\n",
    "combined_df.bodyType = combined_df.bodyType.apply(lambda x: x.lower().split()[0].strip() if isinstance(x, str) else x)\n",
    "combined_df.bodyType.value_counts(normalize=True)"
   ]
  },
  {
   "cell_type": "markdown",
   "metadata": {},
   "source": [
    "#### brand"
   ]
  },
  {
   "cell_type": "code",
   "execution_count": null,
   "metadata": {},
   "outputs": [],
   "source": [
    "combined_df.brand.value_counts(dropna=False, normalize=True)"
   ]
  },
  {
   "cell_type": "code",
   "execution_count": null,
   "metadata": {},
   "outputs": [],
   "source": [
    "# Посмотрим на список брендов, которые встречаются в тестовой выборке\n",
    "combined_df[combined_df['train']==0].brand.value_counts()"
   ]
  },
  {
   "cell_type": "code",
   "execution_count": null,
   "metadata": {},
   "outputs": [],
   "source": [
    "# заменим занчения, которых нет в тестовой выборке на np.NaN\n",
    "combined_df['brand'] = combined_df.brand.apply(lambda x: x if x in ['BMW', 'VOLKSWAGEN','NISSAN','MERCEDES','TOYOTA','AUDI',\n",
    "                                             'MITSUBISHI','SKODA','VOLVO','HONDA','INFINITI','LEXUS'] else np.NaN)\n",
    "combined_df.brand.value_counts(dropna=False)"
   ]
  },
  {
   "cell_type": "markdown",
   "metadata": {},
   "source": [
    "Придется удалить значительное число записей, видимо, при парсинге не было задано ограничение по брендам из тестовой выборки"
   ]
  },
  {
   "cell_type": "code",
   "execution_count": null,
   "metadata": {},
   "outputs": [],
   "source": [
    "# удалим пропуски\n",
    "combined_df.dropna(subset=['brand'], inplace=True)"
   ]
  },
  {
   "cell_type": "markdown",
   "metadata": {},
   "source": [
    "#### color"
   ]
  },
  {
   "cell_type": "code",
   "execution_count": null,
   "metadata": {},
   "outputs": [],
   "source": [
    "combined_df.color.value_counts()"
   ]
  },
  {
   "cell_type": "code",
   "execution_count": null,
   "metadata": {},
   "outputs": [],
   "source": [
    "# некоторые цыета закодированы, создадим словарь с расшифровками\n",
    "colors = {'040001': 'чёрный', 'FAFBFB': 'белый', 'CACECB':'серебристый', '97948F':'серый',\n",
    "          '0000CC':'синий','EE1D19':'красный', '200204':'коричневый', '007F00':'зелёный', \n",
    "          'C49648':'бежевый', '22A0F8':'голубой', 'DEA522':'золотистый', '660099':'пурпурный',\n",
    "          'FFD600':'жёлтый', '4A2197':'фиолетовый', 'FF8649':'оранжевый', 'FFC0CB':'розовый'}"
   ]
  },
  {
   "cell_type": "code",
   "execution_count": null,
   "metadata": {},
   "outputs": [],
   "source": [
    "# Проведем замену\n",
    "combined_df.color.replace(to_replace=colors, inplace=True)\n",
    "combined_df.color.value_counts(normalize=True)"
   ]
  },
  {
   "cell_type": "markdown",
   "metadata": {},
   "source": [
    "#### complectation_dict"
   ]
  },
  {
   "cell_type": "code",
   "execution_count": null,
   "metadata": {},
   "outputs": [],
   "source": [
    "# оставим в колонке только количество перечисленных особенностей \n",
    "combined_df.complectation_dict = combined_df.complectation_dict.apply(lambda x: len(x.split('\",\"')) if isinstance(x, str) else x)\n",
    "combined_df.complectation_dict.value_counts()"
   ]
  },
  {
   "cell_type": "markdown",
   "metadata": {},
   "source": [
    "#### description"
   ]
  },
  {
   "cell_type": "code",
   "execution_count": null,
   "metadata": {},
   "outputs": [],
   "source": [
    "# оставим количество слов в описании\n",
    "combined_df.description = combined_df.description.apply(lambda x: len(x) if isinstance(x, str) else x)\n",
    "combined_df.description.value_counts()"
   ]
  },
  {
   "cell_type": "markdown",
   "metadata": {},
   "source": [
    "#### engineDisplacement"
   ]
  },
  {
   "cell_type": "code",
   "execution_count": null,
   "metadata": {},
   "outputs": [],
   "source": [
    "combined_df.engineDisplacement.unique()"
   ]
  },
  {
   "cell_type": "code",
   "execution_count": null,
   "metadata": {},
   "outputs": [],
   "source": [
    "# создадим функцию, которая найдет значения среди этого хаоса\n",
    "def find_float(value):\n",
    "    extracted_value = re.findall('\\d\\.\\d', str(value))\n",
    "    if extracted_value:\n",
    "        return float(extracted_value[0])\n",
    "    return None"
   ]
  },
  {
   "cell_type": "code",
   "execution_count": null,
   "metadata": {},
   "outputs": [],
   "source": [
    "combined_df.engineDisplacement = combined_df.engineDisplacement.apply(find_float)"
   ]
  },
  {
   "cell_type": "code",
   "execution_count": null,
   "metadata": {},
   "outputs": [],
   "source": [
    "combined_df.engineDisplacement.value_counts(normalize=True, dropna=False)"
   ]
  },
  {
   "cell_type": "markdown",
   "metadata": {},
   "source": [
    "#### enginePower"
   ]
  },
  {
   "cell_type": "code",
   "execution_count": null,
   "metadata": {},
   "outputs": [],
   "source": [
    "combined_df.enginePower.unique()"
   ]
  },
  {
   "cell_type": "code",
   "execution_count": null,
   "metadata": {},
   "outputs": [],
   "source": [
    "combined_df.enginePower = combined_df.enginePower.apply(lambda x: x.replace(\" N12\", \"\") if isinstance(x, str) else x)\n",
    "combined_df.enginePower = combined_df.enginePower.replace('undefined', np.nan)\n",
    "combined_df.enginePower = combined_df.enginePower.apply(lambda x: float(x))\n",
    "combined_df.enginePower.value_counts(dropna=False)"
   ]
  },
  {
   "cell_type": "markdown",
   "metadata": {},
   "source": [
    "engineDisplacement и enginePower отражают сходную информацию, но при этом engineDisplacement содержит 12% пропусков. Попытка создать словарь объем:мощность и заполнить на его основании пропуски engineDisplacement не принесла удовлетворительных результатов. Удалим столбец engineDisplacement, а в enginePower почистим пропуски."
   ]
  },
  {
   "cell_type": "code",
   "execution_count": null,
   "metadata": {},
   "outputs": [],
   "source": [
    "combined_df.drop(columns=['engineDisplacement'], inplace=True)"
   ]
  },
  {
   "cell_type": "code",
   "execution_count": null,
   "metadata": {},
   "outputs": [],
   "source": [
    "combined_df.dropna(subset=['enginePower'], inplace=True)"
   ]
  },
  {
   "cell_type": "markdown",
   "metadata": {},
   "source": [
    "#### fuelType"
   ]
  },
  {
   "cell_type": "code",
   "execution_count": null,
   "metadata": {},
   "outputs": [],
   "source": [
    "combined_df.fuelType.value_counts(dropna=False)"
   ]
  },
  {
   "cell_type": "markdown",
   "metadata": {},
   "source": [
    "#### mileage"
   ]
  },
  {
   "cell_type": "code",
   "execution_count": null,
   "metadata": {},
   "outputs": [],
   "source": [
    "combined_df.mileage.isna().value_counts()"
   ]
  },
  {
   "cell_type": "markdown",
   "metadata": {},
   "source": [
    "#### modelDate\n",
    "Данная переменная имеет сильную корреляционную связь с переменной productionDate, т.к. productionDate лучше отражает возраст машины, оставим ее, а modelDate удалим (но позже, чтобы заполнить пропуски в productionDate, если такие имеются)"
   ]
  },
  {
   "cell_type": "markdown",
   "metadata": {},
   "source": [
    "#### modelName"
   ]
  },
  {
   "cell_type": "code",
   "execution_count": null,
   "metadata": {},
   "outputs": [],
   "source": [
    "combined_df.model_name.value_counts(dropna=False).head(30)"
   ]
  },
  {
   "cell_type": "markdown",
   "metadata": {},
   "source": [
    "#### name"
   ]
  },
  {
   "cell_type": "code",
   "execution_count": null,
   "metadata": {},
   "outputs": [],
   "source": [
    "combined_df.name"
   ]
  },
  {
   "cell_type": "markdown",
   "metadata": {},
   "source": [
    "В разных строках находится разная по содержанию информация (в одних - объем двигателя и количество лошадиных сил, в других - название модели). Удалим данный признак."
   ]
  },
  {
   "cell_type": "code",
   "execution_count": null,
   "metadata": {},
   "outputs": [],
   "source": [
    "combined_df.drop(columns=['name'], inplace=True)"
   ]
  },
  {
   "cell_type": "markdown",
   "metadata": {},
   "source": [
    "#### numberOfDoors"
   ]
  },
  {
   "cell_type": "code",
   "execution_count": null,
   "metadata": {},
   "outputs": [],
   "source": [
    "combined_df.numberOfDoors.value_counts()"
   ]
  },
  {
   "cell_type": "code",
   "execution_count": null,
   "metadata": {},
   "outputs": [],
   "source": [
    "# Посмотрим на записи, где указано, что дверей вообще нет\n",
    "combined_df[combined_df.numberOfDoors == 0] "
   ]
  },
  {
   "cell_type": "markdown",
   "metadata": {},
   "source": [
    "Т.к. это автомобили с открытым верхом, можно не считать это ошибкой и оставить как есть"
   ]
  },
  {
   "cell_type": "markdown",
   "metadata": {},
   "source": [
    "#### productionDate"
   ]
  },
  {
   "cell_type": "code",
   "execution_count": null,
   "metadata": {},
   "outputs": [],
   "source": [
    "# проверим количество пропусков\n",
    "sum(combined_df.productionDate.isna()==True)"
   ]
  },
  {
   "cell_type": "markdown",
   "metadata": {},
   "source": [
    "Пропусков нет, можно удалять modelDate"
   ]
  },
  {
   "cell_type": "code",
   "execution_count": null,
   "metadata": {},
   "outputs": [],
   "source": [
    "combined_df.drop(columns=['modelDate'], inplace=True)"
   ]
  },
  {
   "cell_type": "markdown",
   "metadata": {},
   "source": [
    "#### vehicleConfiguration\n",
    "Дублирует информацию из колонок vehicleTransmission, enginePower, numberOfDoors, поэтому удалим ее"
   ]
  },
  {
   "cell_type": "code",
   "execution_count": null,
   "metadata": {},
   "outputs": [],
   "source": [
    "combined_df.drop(columns=['vehicleConfiguration'], inplace=True)"
   ]
  },
  {
   "cell_type": "markdown",
   "metadata": {},
   "source": [
    "#### vehicleTransmission"
   ]
  },
  {
   "cell_type": "code",
   "execution_count": null,
   "metadata": {},
   "outputs": [],
   "source": [
    "combined_df.vehicleTransmission.unique()"
   ]
  },
  {
   "cell_type": "code",
   "execution_count": null,
   "metadata": {},
   "outputs": [],
   "source": [
    "# Заменим значения\n",
    "combined_df.vehicleTransmission.replace({'роботизированная':'ROBOT', \n",
    "                                         'механическая':'MECHANICAL', \n",
    "                                         'автоматическая':'AUTOMATIC', \n",
    "                                         'вариатор':'VARIATOR'}, inplace=True)"
   ]
  },
  {
   "cell_type": "code",
   "execution_count": null,
   "metadata": {},
   "outputs": [],
   "source": [
    "combined_df.vehicleTransmission.value_counts(dropna=False)"
   ]
  },
  {
   "cell_type": "markdown",
   "metadata": {},
   "source": [
    "#### vendor"
   ]
  },
  {
   "cell_type": "code",
   "execution_count": null,
   "metadata": {},
   "outputs": [],
   "source": [
    "combined_df.vendor.value_counts(dropna=False)"
   ]
  },
  {
   "cell_type": "code",
   "execution_count": null,
   "metadata": {},
   "outputs": [],
   "source": [
    "# Посмотри на пропуски в данном столбце\n",
    "combined_df[combined_df.vendor.isna()==True]"
   ]
  },
  {
   "cell_type": "code",
   "execution_count": null,
   "metadata": {},
   "outputs": [],
   "source": [
    "# пропуски легко заплнить, исходя из бренда автомобиля\n",
    "combined_df.vendor.fillna('EUROPEAN', inplace=True)"
   ]
  },
  {
   "cell_type": "markdown",
   "metadata": {},
   "source": [
    "#### Владельцы ---> owners"
   ]
  },
  {
   "cell_type": "code",
   "execution_count": null,
   "metadata": {},
   "outputs": [],
   "source": [
    "# переименуем колонку\n",
    "combined_df.rename(columns={'Владельцы':'owners'}, inplace=True)"
   ]
  },
  {
   "cell_type": "code",
   "execution_count": null,
   "metadata": {},
   "outputs": [],
   "source": [
    "combined_df.owners.value_counts(dropna=False)"
   ]
  },
  {
   "cell_type": "code",
   "execution_count": null,
   "metadata": {},
   "outputs": [],
   "source": [
    "# оставим только числовые значения и преобразуем в тип float\n",
    "combined_df.owners = combined_df.owners.apply(lambda x: x.replace('\\xa0', ' ').split()[0] if isinstance (x, str) else x)\n",
    "combined_df.owners = combined_df.owners.apply(lambda x: float(x))"
   ]
  },
  {
   "cell_type": "code",
   "execution_count": null,
   "metadata": {},
   "outputs": [],
   "source": [
    "combined_df.owners.value_counts(dropna=False)"
   ]
  },
  {
   "cell_type": "code",
   "execution_count": null,
   "metadata": {},
   "outputs": [],
   "source": [
    "# Посмотрим на пробег автомобилей, у которых отсутствует информация о количестве владельцев\n",
    "combined_df[combined_df['owners'].isna()==True].mileage.value_counts()"
   ]
  },
  {
   "cell_type": "code",
   "execution_count": null,
   "metadata": {},
   "outputs": [],
   "source": [
    "# Запоним количество владельцев единицами там, где пробег > 0.0, т.к. хотя бы один владелей был\n",
    "combined_df.loc[(combined_df.owners.isna()) & (combined_df.mileage > 0.0), 'owners'] = 1.0"
   ]
  },
  {
   "cell_type": "code",
   "execution_count": null,
   "metadata": {},
   "outputs": [],
   "source": [
    "# посмотрим к какому датасету принадлежали данные об автомобилях без пробега\n",
    "combined_df[combined_df.mileage==0.0].train.value_counts()"
   ]
  },
  {
   "cell_type": "markdown",
   "metadata": {},
   "source": [
    "Все новые автомобили (без пробега) находятся в тренировочной выборке, должно быть, данные про них были собраны по ошибке, т.к. по условию задания необходимо предсказывать стоимость подержанных автомобилей. Удалим эти записи."
   ]
  },
  {
   "cell_type": "code",
   "execution_count": null,
   "metadata": {},
   "outputs": [],
   "source": [
    "combined_df.dropna(subset=['owners'], inplace=True)\n",
    "combined_df.owners.value_counts(dropna=False)"
   ]
  },
  {
   "cell_type": "markdown",
   "metadata": {},
   "source": [
    "#### Владение\n",
    "Пропуски составляют 68,7%, к тому же колонка не очень информативна, ведь есть количество владельцев и год производства. Удалим колонку."
   ]
  },
  {
   "cell_type": "code",
   "execution_count": null,
   "metadata": {},
   "outputs": [],
   "source": [
    "combined_df.drop(columns=['Владение'], inplace=True)"
   ]
  },
  {
   "cell_type": "markdown",
   "metadata": {},
   "source": [
    "#### ПТС ---> vehicleLicence"
   ]
  },
  {
   "cell_type": "code",
   "execution_count": null,
   "metadata": {},
   "outputs": [],
   "source": [
    "# переименуем колонку\n",
    "combined_df.rename(columns={'ПТС':'vehicleLicence'}, inplace=True)"
   ]
  },
  {
   "cell_type": "code",
   "execution_count": null,
   "metadata": {},
   "outputs": [],
   "source": [
    "combined_df.vehicleLicence.value_counts(dropna=False)"
   ]
  },
  {
   "cell_type": "code",
   "execution_count": null,
   "metadata": {},
   "outputs": [],
   "source": [
    "# заменим значения и заполним пропуски модой\n",
    "combined_df.vehicleLicence.replace({'Дубликат':'DUPLICATE', \n",
    "                                    'Оригинал':'ORIGINAL',\n",
    "                                     np.NaN:'ORIGINAL'}, inplace=True)"
   ]
  },
  {
   "cell_type": "code",
   "execution_count": null,
   "metadata": {},
   "outputs": [],
   "source": [
    "combined_df.vehicleLicence.value_counts(dropna=False)"
   ]
  },
  {
   "cell_type": "markdown",
   "metadata": {},
   "source": [
    "#### Привод ---> gear"
   ]
  },
  {
   "cell_type": "code",
   "execution_count": null,
   "metadata": {},
   "outputs": [],
   "source": [
    "# переименуем колонку\n",
    "combined_df.rename(columns={'Привод':'gear'}, inplace=True)"
   ]
  },
  {
   "cell_type": "code",
   "execution_count": null,
   "metadata": {},
   "outputs": [],
   "source": [
    "combined_df.gear.value_counts(dropna=False)"
   ]
  },
  {
   "cell_type": "markdown",
   "metadata": {},
   "source": [
    "#### Руль ---> steeringWheel "
   ]
  },
  {
   "cell_type": "code",
   "execution_count": null,
   "metadata": {},
   "outputs": [],
   "source": [
    "# переименуем колонку\n",
    "combined_df.rename(columns={'Руль':'steeringWheel'}, inplace=True)"
   ]
  },
  {
   "cell_type": "code",
   "execution_count": null,
   "metadata": {},
   "outputs": [],
   "source": [
    "combined_df.steeringWheel.value_counts(dropna=False)"
   ]
  },
  {
   "cell_type": "code",
   "execution_count": null,
   "metadata": {},
   "outputs": [],
   "source": [
    "# Заменим русские обозначения английскими\n",
    "combined_df.steeringWheel.replace({'Левый':'LEFT', \n",
    "                                    'Правый':'RIGHT'}, inplace=True)"
   ]
  },
  {
   "cell_type": "markdown",
   "metadata": {},
   "source": [
    "#### Состояние ---> condition"
   ]
  },
  {
   "cell_type": "code",
   "execution_count": null,
   "metadata": {},
   "outputs": [],
   "source": [
    "# переименуем колонку\n",
    "combined_df.rename(columns={'Состояние':'condition'}, inplace=True)"
   ]
  },
  {
   "cell_type": "code",
   "execution_count": null,
   "metadata": {},
   "outputs": [],
   "source": [
    "combined_df.condition.value_counts(dropna=False)"
   ]
  },
  {
   "cell_type": "code",
   "execution_count": null,
   "metadata": {},
   "outputs": [],
   "source": [
    "# Преобразуем колонку в бинарный тип\n",
    "combined_df.condition = combined_df.condition.apply(lambda x: 1 if x == 'Не требует ремонта' else 0)"
   ]
  },
  {
   "cell_type": "code",
   "execution_count": null,
   "metadata": {},
   "outputs": [],
   "source": [
    "combined_df.condition.value_counts(dropna=False)"
   ]
  },
  {
   "cell_type": "markdown",
   "metadata": {},
   "source": [
    "#### Таможня ---> custom"
   ]
  },
  {
   "cell_type": "code",
   "execution_count": null,
   "metadata": {},
   "outputs": [],
   "source": [
    "# переименуем колонку\n",
    "combined_df.rename(columns={'Таможня':'custom'}, inplace=True)"
   ]
  },
  {
   "cell_type": "code",
   "execution_count": null,
   "metadata": {},
   "outputs": [],
   "source": [
    "combined_df.custom.value_counts(dropna=False)"
   ]
  },
  {
   "cell_type": "code",
   "execution_count": null,
   "metadata": {},
   "outputs": [],
   "source": [
    "# также преобразуем в бинарный тип\n",
    "combined_df.custom = combined_df.custom.apply(lambda x: 1 if x == 'Растаможен' or x == True else 0)"
   ]
  },
  {
   "cell_type": "code",
   "execution_count": null,
   "metadata": {},
   "outputs": [],
   "source": [
    "combined_df[combined_df['train']==0].custom.value_counts(dropna=False)"
   ]
  },
  {
   "cell_type": "markdown",
   "metadata": {},
   "source": [
    "В тестовой выборке присутствуют только растаможеннные автомобили, а количество нерастаможенных в тренировочной ничтожно мало. Далее было выяснено, что данный признак не несет ценности для модели."
   ]
  },
  {
   "cell_type": "markdown",
   "metadata": {},
   "source": [
    "#### price, train, new_data"
   ]
  },
  {
   "cell_type": "code",
   "execution_count": null,
   "metadata": {},
   "outputs": [],
   "source": [
    "sum(combined_df.price.isna())"
   ]
  },
  {
   "cell_type": "code",
   "execution_count": null,
   "metadata": {},
   "outputs": [],
   "source": [
    "sum(combined_df.train.isna())"
   ]
  },
  {
   "cell_type": "code",
   "execution_count": null,
   "metadata": {},
   "outputs": [],
   "source": [
    "sum(combined_df.new_data.isna())"
   ]
  },
  {
   "cell_type": "markdown",
   "metadata": {},
   "source": [
    "Пропусков нет, все в порядке"
   ]
  },
  {
   "cell_type": "markdown",
   "metadata": {},
   "source": [
    "### Удаление дубликатов"
   ]
  },
  {
   "cell_type": "code",
   "execution_count": null,
   "metadata": {},
   "outputs": [],
   "source": [
    "combined_df.shape"
   ]
  },
  {
   "cell_type": "code",
   "execution_count": null,
   "metadata": {},
   "outputs": [],
   "source": [
    "combined_df.drop_duplicates(inplace=True)\n",
    "combined_df.shape"
   ]
  },
  {
   "cell_type": "markdown",
   "metadata": {},
   "source": [
    "### Пропуски"
   ]
  },
  {
   "cell_type": "code",
   "execution_count": null,
   "metadata": {},
   "outputs": [],
   "source": [
    "for column in combined_df.columns:\n",
    "    misses = (1 - (combined_df[column].count() / combined_df.shape[0]))\n",
    "    print('Процент пропусков в', column,': ', round(misses*100, 5), \"%\")"
   ]
  },
  {
   "cell_type": "markdown",
   "metadata": {},
   "source": [
    "#### complectation_dict"
   ]
  },
  {
   "cell_type": "code",
   "execution_count": null,
   "metadata": {},
   "outputs": [],
   "source": [
    "# т.к. мы оставили только количество, пустые значения можно заменить нулями\n",
    "combined_df.complectation_dict.replace(np.NaN, 0, inplace=True)"
   ]
  },
  {
   "cell_type": "markdown",
   "metadata": {},
   "source": [
    "#### description"
   ]
  },
  {
   "cell_type": "code",
   "execution_count": null,
   "metadata": {},
   "outputs": [],
   "source": [
    "# аналогично, заполним нулями\n",
    "combined_df.description.replace(np.NaN, 0, inplace=True)"
   ]
  },
  {
   "cell_type": "markdown",
   "metadata": {},
   "source": [
    "#### super_gen"
   ]
  },
  {
   "cell_type": "markdown",
   "metadata": {},
   "source": [
    "В данном столбце содержались не совсем одинаковые данные до объединения датасетов. \n",
    "\n",
    "Например в тестовом датасете: '{\"id\":\"10373605\",\"displacement\":1197,\"engine_type\":\"GASOLINE\",\"gear_type\":\"FORWARD_CONTROL\",\"transmission\":\"ROBOT\",\"power\":105,\"power_kvt\":77,\"human_name\":\"1.2 AMT (105 л.с.)\",\"acceleration\":10.5,\"clearance_min\":155,\"fuel_rate\":5}'\n",
    "\n",
    "А в датасете со свежими данными\n",
    "\"{'id': '2307782', 'name': '350', 'nameplate': '350', 'displacement': 3498, 'engine_type': 'GASOLINE', 'gear_type': 'REAR_DRIVE', 'transmission': 'AUTOMATIC', 'power': 272, 'power_kvt': 215, 'human_name': '350 3.5 AT (272 л.с.)'}\"\n",
    "\n",
    "Было бы полезно преобразовать этот столбец в несколько новых признаков (acceleration, clearence_min, fuel_rate) но эти данные можно извлечь только для тестового датасета.\n",
    "\n",
    "Удалим данный столбец"
   ]
  },
  {
   "cell_type": "code",
   "execution_count": null,
   "metadata": {},
   "outputs": [],
   "source": [
    "combined_df.drop(columns=['super_gen'], inplace=True)"
   ]
  },
  {
   "cell_type": "markdown",
   "metadata": {},
   "source": [
    "### EDA"
   ]
  },
  {
   "cell_type": "code",
   "execution_count": null,
   "metadata": {},
   "outputs": [],
   "source": [
    "combined_df.info()"
   ]
  },
  {
   "cell_type": "code",
   "execution_count": null,
   "metadata": {},
   "outputs": [],
   "source": [
    "cat_cols = ['bodyType', 'brand', 'color', 'fuelType', 'model_name', 'gear', 'owners',\n",
    "            'numberOfDoors', 'vendor', 'vehicleTransmission', 'vehicleLicence', 'steeringWheel']\n",
    "num_cols = ['complectation_dict', 'enginePower', 'mileage', 'productionDate', 'description']\n",
    "bin_cols = ['condition', 'custom']\n",
    "help_cols = ['train', 'sell_id', 'new_data']\n",
    "target_col = ['price']"
   ]
  },
  {
   "cell_type": "markdown",
   "metadata": {},
   "source": [
    "#### Числовые переменые"
   ]
  },
  {
   "cell_type": "code",
   "execution_count": null,
   "metadata": {},
   "outputs": [],
   "source": [
    "for col in num_cols:\n",
    "    fig, ax = plt.subplots(1,2, figsize=(18,4))\n",
    "    sns.distplot(combined_df[col], kde = False, rug=False, ax=ax[0], label='combined_df')\n",
    "    sns.distplot(combined_df[combined_df.train==1][col], kde = False, rug=False, ax=ax[0], label='train')\n",
    "    sns.distplot(combined_df[combined_df.train==0][col], kde = False, rug=False, ax=ax[0], label='test')\n",
    "    sns.boxplot(combined_df[col], ax=ax[1])\n",
    "    fig.legend()\n",
    "    fig.show()"
   ]
  },
  {
   "cell_type": "markdown",
   "metadata": {},
   "source": [
    "На графике распределений зеленым цветом обозначены тестовые данные, оранжевым - тренировочные данные, голубым - объединенные данные. Как видно на графиках распределения количественных переменных в тренировочной и тестовой выборках сходны. Однако имеется достаточно большое количество выбросов."
   ]
  },
  {
   "cell_type": "code",
   "execution_count": null,
   "metadata": {},
   "outputs": [],
   "source": [
    "combined_df[num_cols].describe()"
   ]
  },
  {
   "cell_type": "code",
   "execution_count": null,
   "metadata": {},
   "outputs": [],
   "source": [
    "#посмотрим на влияние логарифмирования на распределение переменных\n",
    "df = pd.DataFrame()\n",
    "df['price'] = combined_df['price']"
   ]
  },
  {
   "cell_type": "code",
   "execution_count": null,
   "metadata": {},
   "outputs": [],
   "source": [
    "for col in num_cols:\n",
    "    df[col] = combined_df[col].apply(lambda w: np.log(w + 1))\n",
    "    fig, ax = plt.subplots(1,2, figsize=(18,4))\n",
    "    sns.distplot(df[col], kde = False, rug=False, ax=ax[0])\n",
    "    sns.boxplot(df[col], ax=ax[1])\n",
    "    fig.show()"
   ]
  },
  {
   "cell_type": "markdown",
   "metadata": {},
   "source": [
    "После логарфмирование распределение признаков enginePower, description, mileage стало напоминать нормальное, но по прежнему остается проблема с выбросами. Столбец complectation_dict содержит много нулевых значений (и как следствие выбросов), он не принесет пользы модели, удалим его."
   ]
  },
  {
   "cell_type": "code",
   "execution_count": null,
   "metadata": {},
   "outputs": [],
   "source": [
    "# удалим колонку\n",
    "combined_df.drop(columns=['complectation_dict'], inplace=True)"
   ]
  },
  {
   "cell_type": "code",
   "execution_count": null,
   "metadata": {},
   "outputs": [],
   "source": [
    "# обновим список колонок\n",
    "num_cols = ['enginePower', 'mileage', 'productionDate', 'description']"
   ]
  },
  {
   "cell_type": "code",
   "execution_count": null,
   "metadata": {},
   "outputs": [],
   "source": [
    "# для оценки корреляции используем только тренировочные данные, где корректно указана цена\n",
    "plt.figure(figsize=(16, 8))\n",
    "correlation = combined_df[combined_df.train==1][num_cols + ['price']].corr()\n",
    "sns.heatmap(correlation, annot = True, cmap = 'coolwarm')"
   ]
  },
  {
   "cell_type": "markdown",
   "metadata": {},
   "source": [
    "productionDate и mileage имеют сильную отрицательную корреляционную связь, возможно, стоит их объединить в новый признак - пробег за год"
   ]
  },
  {
   "cell_type": "code",
   "execution_count": null,
   "metadata": {},
   "outputs": [],
   "source": [
    "sns.pairplot(combined_df[num_cols])"
   ]
  },
  {
   "cell_type": "code",
   "execution_count": null,
   "metadata": {},
   "outputs": [],
   "source": [
    "# Посмотрим, как соотносятся цены и год производства\n",
    "sns.jointplot(x='productionDate', y='price', data=combined_df[combined_df.train==1], kind='reg', height=8)"
   ]
  },
  {
   "cell_type": "markdown",
   "metadata": {},
   "source": [
    "Зависимость цены от года производства выглядит закономерно, за исключением нескольких сильно выбивающихся наблюдений. "
   ]
  },
  {
   "cell_type": "markdown",
   "metadata": {},
   "source": [
    "#### Категориальные переменные"
   ]
  },
  {
   "cell_type": "code",
   "execution_count": null,
   "metadata": {},
   "outputs": [],
   "source": [
    "for col in cat_cols:\n",
    "    if col not in ['model_name', 'name', 'brand']: # данные столбцы содержат слишком много уникальных значений\n",
    "        fig, ax = plt.subplots(figsize=(18,6), ncols=2, nrows=1)\n",
    "        combined_df[combined_df.train==1][col].value_counts().plot(kind='bar', ax=ax[0],color='b', label='train')\n",
    "        combined_df[combined_df.train==0][col].value_counts().plot(kind='bar', ax=ax[0],color='c', label='test')\n",
    "        sns.boxplot(x=col, y='price', data=combined_df[combined_df.train==1][combined_df['price'] <= combined_df['price'].quantile(0.9)], ax=ax[1])\n",
    "        plt.xticks(rotation=90)\n",
    "        fig.legend()\n",
    "        fig.show()                                                                                            "
   ]
  },
  {
   "cell_type": "markdown",
   "metadata": {},
   "source": [
    "Соотношение различных категорий признаков в тестовом и тренировочном датасетах сходно."
   ]
  },
  {
   "cell_type": "markdown",
   "metadata": {},
   "source": [
    "#### Бинарные переменные"
   ]
  },
  {
   "cell_type": "code",
   "execution_count": null,
   "metadata": {},
   "outputs": [],
   "source": [
    "for col in bin_cols:\n",
    "    fig, ax = plt.subplots(figsize=(18,6), ncols=2, nrows=1)\n",
    "    combined_df[col].value_counts().plot(kind='bar', ax=ax[0])\n",
    "    sns.boxplot(x=col, y='price', data=combined_df[combined_df.train==1][combined_df['price'] <= combined_df['price'].quantile(0.9)], ax=ax[1])\n",
    "    plt.xticks(rotation=90)\n",
    "    fig.show()                                                                                            "
   ]
  },
  {
   "cell_type": "markdown",
   "metadata": {},
   "source": [
    "Автомобили, не требующие ремонта, в среднем дороже, что логично.\n",
    "Переменная custom очень неравномерно представлена, кроме того ее значения почти не влияют на значение цены."
   ]
  },
  {
   "cell_type": "markdown",
   "metadata": {},
   "source": [
    "#### Целевая переменная - price"
   ]
  },
  {
   "cell_type": "code",
   "execution_count": null,
   "metadata": {},
   "outputs": [],
   "source": [
    "combined_df.query('train == 1').price.hist();\n",
    "plt.title('Распределение price', fontdict={'fontsize': 14});\n",
    "plt.xlabel('price, RUB * 10^7');"
   ]
  },
  {
   "cell_type": "code",
   "execution_count": null,
   "metadata": {},
   "outputs": [],
   "source": [
    "np.log2(combined_df.query('train == 1').price).hist();\n",
    "plt.title('Распределение после логарифмирования', fontdict={'fontsize': 14});"
   ]
  },
  {
   "cell_type": "markdown",
   "metadata": {},
   "source": [
    "Распределение целевой переменной после логарифмирование напоминает нормальное. Это значит, что для обучения модели лучше будет использовать логарифмированную переменную, т.к. моделям проще работать с переменными с нормальным распределением."
   ]
  },
  {
   "cell_type": "markdown",
   "metadata": {},
   "source": [
    "### Что необходимо сделать:\n",
    "- Наблюдается сильная отрицательная корреляционная связь между переменными mileage и productionDate, целесоообразно содать дополнительный признак - пробег за год mileage_per_year\n",
    "- 25-я перцентиль в распределении productionDate равна 2006 году,75-я - 2015 году, добавим переменную old для машин которые были произведены ранее 2006 года, и new - после 2015 года\n",
    "- Создать колонку very_old для автомобилей, произведенных раньше 1970 года\n",
    "- Создадим переменную top3_body_type для автомобилей с типом кузова седан, внедорожник и хэтчбек\n",
    "- Переменная top_model для моделей, представленных в датасете более, чем 1500 машинами\n",
    "- Переменная top5_color для автомобилей 5 самых популярных цветов\n",
    "- Переменная top_engine_power для автомобилей с enginePower больше 400\n",
    "- Переменная electro для электроавтомобилей и гибридных автомобилей\n",
    "- Добавить столбцы - логарифм enginePower, mileage, description\n",
    "- Откорректировать цену в тренировочной выборке с поправкой на курс доллара"
   ]
  },
  {
   "cell_type": "markdown",
   "metadata": {},
   "source": [
    "### Feature ingineering"
   ]
  },
  {
   "cell_type": "code",
   "execution_count": null,
   "metadata": {},
   "outputs": [],
   "source": [
    "# Добавим бинарные переменные на основании даты производства\n",
    "combined_df['old'] = combined_df.productionDate.apply(lambda x: 1 if x < 2006 else 0)\n",
    "combined_df['very_old'] = combined_df.productionDate.apply(lambda x: 1 if x < 1970 else 0)\n",
    "combined_df['new'] = combined_df.productionDate.apply(lambda x: 1 if x > 2015 else 0)"
   ]
  },
  {
   "cell_type": "code",
   "execution_count": null,
   "metadata": {},
   "outputs": [],
   "source": [
    "# Добавим бинарные перемнн\n",
    "combined_df['top3_body_type'] = combined_df.bodyType.apply(lambda x: 1 if x in ['седан', 'внедорожник', \n",
    "                                                                                'хэтчбек'] else 0)\n",
    "combined_df['top5_color'] = combined_df.color.apply(lambda x: 1 if x in ['чёрный','белый',\n",
    "                                                                         'серебристый','серый',\n",
    "                                                                         'синий'] else 0)\n",
    "combined_df['top_engine_power'] = combined_df.enginePower.apply(lambda x: 1 if x>400 else 0)\n",
    "combined_df['electro'] = combined_df.fuelType.apply(lambda x: 1 if x in ['гибрид','электро'] else 0)\n",
    "combined_df['top_model'] = combined_df.model_name.apply(lambda x: 1 if x in['A6','OCTAVIA','5ER','FOCUS','X5','A4',\n",
    "                                                                            'E_KLASSE','PASSAT','3ER','POLO','Camry',\n",
    "                                                                            'OUTLANDER','X_TRAIL','SOLARIS','E-Класс',\n",
    "                                                                            'LANCER','Passat','CAMRY','6','QASHQAI',\n",
    "                                                                            'ASTRA','TIGUAN','5 серии'] else 0)"
   ]
  },
  {
   "cell_type": "code",
   "execution_count": null,
   "metadata": {},
   "outputs": [],
   "source": [
    "combined_df['enginePower_log2'] = np.log2(combined_df.enginePower + 1)\n",
    "combined_df['mileage_log2'] = np.log2(combined_df.mileage + 1)\n",
    "combined_df['description_log2'] = np.log2(combined_df.description + 1)"
   ]
  },
  {
   "cell_type": "markdown",
   "metadata": {},
   "source": [
    "Согласно информации с сайта banki.ru на 09.09.2020 курс доллара составлял 75.95 RUB за 1 USD, на 15.10.2021 - 71.78 RUB за 1 USD, т.е. на момент сбора train_extra курс составлял 0.945 от уровня сентября 2020 года\n",
    "[https://www.banki.ru/products/currency/usd/]\n",
    "\n",
    "После submission'а стало очевидно, что поправки на курс доллара недостаточно, чтобы нивелировать различия между значениями метрики МАРЕ в ноутбуке и на ЛБ. Эмпирическим методом было выявлено, что наиболее оптимальные значения на ЛБ получаются при применении коэффициента 0.75 к ценам 2021 года. Что свидетельствует о значительном росте спроса на автомобили"
   ]
  },
  {
   "cell_type": "code",
   "execution_count": null,
   "metadata": {},
   "outputs": [],
   "source": [
    "combined_df.price = combined_df.apply(lambda row: row.price if row.new_data == 0 else row.price * 0.75, axis=1)"
   ]
  },
  {
   "cell_type": "code",
   "execution_count": null,
   "metadata": {},
   "outputs": [],
   "source": [
    "combined_df.info()"
   ]
  },
  {
   "cell_type": "code",
   "execution_count": null,
   "metadata": {},
   "outputs": [],
   "source": [
    "cat_cols = ['bodyType', 'brand', 'color', 'fuelType', 'gear','model_name', 'owners', 'numberOfDoors', 'vendor', 'vehicleTransmission', 'vehicleLicence', 'steeringWheel']\n",
    "new_num_cols = ['enginePower', 'mileage', 'productionDate', 'description', 'mileage_per_year', 'enginePower_log2', 'mileage_log2', 'description_log2']\n",
    "new_bin_cols = ['condition', 'custom', 'old', 'very_old', 'new', 'top3_body_type', 'top5_color', 'electro', 'top_model', 'top_engine_power']\n",
    "help_cols = ['train', 'sell_id', 'new_data']\n",
    "target_col = ['price'] "
   ]
  },
  {
   "cell_type": "code",
   "execution_count": null,
   "metadata": {},
   "outputs": [],
   "source": [
    "imp_num = pd.Series(f_regression(\n",
    "    combined_df[combined_df['train'] == 1][new_num_cols], combined_df[combined_df['train'] == 1]['price'])[0], index=new_num_cols)\n",
    "imp_num.sort_values(inplace=True)\n",
    "imp_num.plot(kind='barh')\n",
    "plt.xlabel('Значимость переменных')"
   ]
  },
  {
   "cell_type": "code",
   "execution_count": null,
   "metadata": {},
   "outputs": [],
   "source": [
    "cols_to_delete = ['enginePower_log2', 'mileage', 'description_log2']"
   ]
  },
  {
   "cell_type": "markdown",
   "metadata": {},
   "source": [
    "#### Label Encoding"
   ]
  },
  {
   "cell_type": "code",
   "execution_count": null,
   "metadata": {},
   "outputs": [],
   "source": [
    "for colum in cat_cols:\n",
    "    combined_df[colum] = combined_df[colum].astype('category').cat.codes"
   ]
  },
  {
   "cell_type": "code",
   "execution_count": null,
   "metadata": {},
   "outputs": [],
   "source": [
    "imp_cat = pd.Series(\n",
    "    mutual_info_regression(\n",
    "        combined_df[combined_df.train == 1][list(set(combined_df.columns) & set(cat_cols+new_bin_cols))], \n",
    "        combined_df[combined_df.train == 1]['price'], \n",
    "        discrete_features=True), index=list(set(combined_df.columns) & set(cat_cols+new_bin_cols))\n",
    ")\n",
    "imp_cat.sort_values(inplace=True)\n",
    "imp_cat.plot(kind='barh')\n",
    "plt.show()"
   ]
  },
  {
   "cell_type": "code",
   "execution_count": null,
   "metadata": {},
   "outputs": [],
   "source": [
    "cols_to_delete = cols_to_delete+['very_old', 'custom']"
   ]
  },
  {
   "cell_type": "code",
   "execution_count": null,
   "metadata": {},
   "outputs": [],
   "source": [
    "# так же добавим ненужные больше колонки \n",
    "cols_to_delete = cols_to_delete+['price', 'train', 'new_data']"
   ]
  },
  {
   "cell_type": "markdown",
   "metadata": {},
   "source": [
    "Удаляю, в том числе колонку custom ввиду ее бесполезности (автомобили преимущественно растаможенные, экспериментально проверено, что наличие этой колонки никак не влияет на качество модели)"
   ]
  },
  {
   "cell_type": "code",
   "execution_count": null,
   "metadata": {
    "papermill": {
     "duration": 0.071275,
     "end_time": "2020-10-26T12:47:03.754",
     "exception": false,
     "start_time": "2020-10-26T12:47:03.682725",
     "status": "completed"
    },
    "tags": []
   },
   "outputs": [],
   "source": [
    "X = combined_df.query('train == 1').drop(cols_to_delete, axis=1)\n",
    "X_sub = combined_df.query('train == 0').drop(cols_to_delete, axis=1)\n",
    "y = combined_df.query('train == 1').price"
   ]
  },
  {
   "cell_type": "markdown",
   "metadata": {
    "papermill": {
     "duration": 0.035737,
     "end_time": "2020-10-26T12:47:03.826552",
     "exception": false,
     "start_time": "2020-10-26T12:47:03.790815",
     "status": "completed"
    },
    "tags": []
   },
   "source": [
    "## Train Split"
   ]
  },
  {
   "cell_type": "code",
   "execution_count": null,
   "metadata": {
    "papermill": {
     "duration": 0.059208,
     "end_time": "2020-10-26T12:47:03.923564",
     "exception": false,
     "start_time": "2020-10-26T12:47:03.864356",
     "status": "completed"
    },
    "tags": []
   },
   "outputs": [],
   "source": [
    "X_train, X_test, y_train, y_test = train_test_split(X, y, test_size=VAL_SIZE, shuffle=True, random_state=RANDOM_SEED)"
   ]
  },
  {
   "cell_type": "markdown",
   "metadata": {},
   "source": [
    "# Длинная история про ML\n",
    "Для выбора оптимального алгоритма я собиралась использовать LazyRegressor, но ноутбук перезапускался из-за превышения объема памяти, поэтому пришлось экспериментрировать вручную.\n",
    "\n",
    "После проверки предложенных в baseline моделей (наивной и catBoost) я решила начать с решающего дерева, прежде, чем переходить к ансамблям. Решающее дерево уже само по себе относительно неплохо сработало (МАРЕ около 23%), поэтому в качестве ансамбля я решила опробовать RandomForest (который в последствии оказался лучшей моделью).\n",
    "\n",
    "Далее возникли проблемы с настройкой гиперпараметров, т.к. при запуске RandomizedSerchCV и GridSearchCV снова возникла проблема с перезапуском ноутбука. Код для уменьшения объема исользуемой памяти, найденный мной на StackOverFlow, проблему не решил. Было решено заниматься настройкой гиперпараметров только для тех моделей, которые с параметрами по умолчанию уже дают хороший результат. Пришлось завести дополнительный ноутбук в Юпитере для подбора гиперпараметров. НО: скачать train датасет с Kaggle не вышло, поэтому в Юпитере я тестировала модель только на train_extra, вероятно поэтому подобранные гиперпараметры не улучшали качество моделей на Kaggle.\n",
    "\n",
    "В результате всех этих приключений и подбора корригирующего коэффициента для цен мне удалось получить значение метрики МАРЕ 13,58 на ЛБ после использования случайного леса с параметрами по умолчанию. На чем я и решила остановиться"
   ]
  },
  {
   "cell_type": "markdown",
   "metadata": {},
   "source": [
    "# Model 1: Создадим \"наивную\" модель \n",
    "Эта модель будет предсказывать среднюю цену по модели двигателя (engineDisplacement). \n",
    "C ней будем сравнивать другие модели.\n",
    "\n",
    "\n"
   ]
  },
  {
   "cell_type": "code",
   "execution_count": null,
   "metadata": {},
   "outputs": [],
   "source": [
    "#tmp_train = X_train.copy()\n",
    "#tmp_train['price'] = y_train"
   ]
  },
  {
   "cell_type": "code",
   "execution_count": null,
   "metadata": {},
   "outputs": [],
   "source": [
    "# Находим median по экземплярам engineDisplacement в трейне и размечаем тест\n",
    "#predict = X_test['engineDisplacement'].map(tmp_train.groupby('engineDisplacement')['price'].median())\n",
    "\n",
    "#оцениваем точность\n",
    "#print(f\"Точность наивной модели по метрике MAPE: {(mape(y_test, predict.values))*100:0.2f}%\")"
   ]
  },
  {
   "cell_type": "markdown",
   "metadata": {},
   "source": [
    "Точность по мерике МАРЕ 100%"
   ]
  },
  {
   "cell_type": "markdown",
   "metadata": {
    "papermill": {
     "duration": 0.037164,
     "end_time": "2020-10-26T12:47:03.997616",
     "exception": false,
     "start_time": "2020-10-26T12:47:03.960452",
     "status": "completed"
    },
    "tags": []
   },
   "source": [
    "# Model 2 : CatBoost\n",
    "![](https://pbs.twimg.com/media/DP-jUCyXcAArRTo.png:large)   \n",
    "\n",
    "\n",
    "У нас в данных практически все признаки категориальные. Специально для работы с такими данными была создана очень удобная библиотека CatBoost от Яндекса. [https://catboost.ai](http://)     \n",
    "На данный момент **CatBoost является одной из лучших библиотек для табличных данных!**\n",
    "\n",
    "#### Полезные видео о CatBoost (на русском):\n",
    "* [Доклад про CatBoost](https://youtu.be/9ZrfErvm97M)\n",
    "* [Свежий Туториал от команды CatBoost (практическая часть)](https://youtu.be/wQt4kgAOgV0) "
   ]
  },
  {
   "cell_type": "markdown",
   "metadata": {
    "papermill": {
     "duration": 0.035833,
     "end_time": "2020-10-26T12:47:04.149539",
     "exception": false,
     "start_time": "2020-10-26T12:47:04.113706",
     "status": "completed"
    },
    "tags": []
   },
   "source": [
    "## Fit"
   ]
  },
  {
   "cell_type": "code",
   "execution_count": null,
   "metadata": {
    "papermill": {
     "duration": 67.991521,
     "end_time": "2020-10-26T12:48:12.178488",
     "exception": false,
     "start_time": "2020-10-26T12:47:04.186967",
     "status": "completed"
    },
    "tags": []
   },
   "outputs": [],
   "source": [
    "#model = CatBoostRegressor(iterations = 5000,\n",
    "#                          random_seed = RANDOM_SEED,\n",
    "#                         eval_metric='MAPE',\n",
    "#                          custom_metric=['R2', 'MAE'],\n",
    "#                          silent=True,\n",
    "#                         )\n",
    "#model.fit(X_train, y_train,\n",
    "#         #cat_features=cat_features_ids,\n",
    "#         eval_set=(X_test, y_test),\n",
    "#         verbose_eval=0,\n",
    "#         use_best_model=True,\n",
    "#         #plot=True\n",
    "#         )"
   ]
  },
  {
   "cell_type": "code",
   "execution_count": null,
   "metadata": {},
   "outputs": [],
   "source": [
    "# оцениваем точность\n",
    "#predict = model.predict(X_test)\n",
    "#print(f\"Точность модели по метрике MAPE: {(mape(y_test, predict))*100:0.2f}%\")"
   ]
  },
  {
   "cell_type": "markdown",
   "metadata": {
    "papermill": {
     "duration": 0.088891,
     "end_time": "2020-10-26T12:48:12.562943",
     "exception": false,
     "start_time": "2020-10-26T12:48:12.474052",
     "status": "completed"
    },
    "tags": []
   },
   "source": [
    "Точность по метрике МАРЕ 19.11%"
   ]
  },
  {
   "cell_type": "markdown",
   "metadata": {},
   "source": [
    "### Log Traget\n",
    "Попробуем взять таргет в логорифм - это позволит уменьшить влияние выбросов на обучение модели (используем для этого np.log и np.exp).    "
   ]
  },
  {
   "cell_type": "code",
   "execution_count": null,
   "metadata": {},
   "outputs": [],
   "source": [
    "#np.log(y_train)"
   ]
  },
  {
   "cell_type": "code",
   "execution_count": null,
   "metadata": {},
   "outputs": [],
   "source": [
    "#model = CatBoostRegressor(iterations = 5000,\n",
    "#                          random_seed = RANDOM_SEED,\n",
    "#                          eval_metric='MAPE',\n",
    "#                          custom_metric=['R2', 'MAE'],\n",
    "#                          silent=True,\n",
    "#                         )\n",
    "#model.fit(X_train, np.log(y_train),\n",
    "#         #cat_features=cat_features_ids,\n",
    "#         eval_set=(X_test, np.log(y_test)),\n",
    "#         verbose_eval=0,\n",
    "#         use_best_model=True,\n",
    "#         #plot=True\n",
    "#         )"
   ]
  },
  {
   "cell_type": "code",
   "execution_count": null,
   "metadata": {},
   "outputs": [],
   "source": [
    "#predict_test = np.exp(model.predict(X_test))"
   ]
  },
  {
   "cell_type": "code",
   "execution_count": null,
   "metadata": {},
   "outputs": [],
   "source": [
    "#print(f\"Точность модели по метрике MAPE: {(mape(y_test, predict_test))*100:0.2f}%\")"
   ]
  },
  {
   "cell_type": "markdown",
   "metadata": {},
   "source": [
    "Как видим точность возросла до 15.39%"
   ]
  },
  {
   "cell_type": "markdown",
   "metadata": {},
   "source": [
    "# lazypredict - LazyRegressor"
   ]
  },
  {
   "cell_type": "markdown",
   "metadata": {},
   "source": [
    "Ноутбук перезапускается из-за превышения объема используемой памяти:( Придется перебирать все вручную "
   ]
  },
  {
   "cell_type": "code",
   "execution_count": null,
   "metadata": {},
   "outputs": [],
   "source": [
    "#reg = LazyRegressor(verbose=0, ignore_warnings=False, custom_metric=None)\n",
    "#models, predictions = reg.fit(X_train, X_test, y_train, y_test)\n",
    "#print(models)"
   ]
  },
  {
   "cell_type": "markdown",
   "metadata": {},
   "source": [
    "# DecisionTreeRegressor"
   ]
  },
  {
   "cell_type": "code",
   "execution_count": null,
   "metadata": {},
   "outputs": [],
   "source": [
    "#model = DecisionTreeRegressor(random_state=RANDOM_SEED)\n",
    "#model.fit(X_train, y_train)\n",
    "#y_pred = model.predict(X_test)"
   ]
  },
  {
   "cell_type": "code",
   "execution_count": null,
   "metadata": {},
   "outputs": [],
   "source": [
    "#print(f\"Точность модели по метрике MAPE: {(mape(y_test, y_pred))*100:0.2f}%\")"
   ]
  },
  {
   "cell_type": "markdown",
   "metadata": {},
   "source": [
    "Точность модели 23.84%. Попробуем логарифмирование:"
   ]
  },
  {
   "cell_type": "code",
   "execution_count": null,
   "metadata": {},
   "outputs": [],
   "source": [
    "#model.fit(X_train, np.log(y_train))\n",
    "#y_pred = np.exp(model.predict(X_test))"
   ]
  },
  {
   "cell_type": "code",
   "execution_count": null,
   "metadata": {},
   "outputs": [],
   "source": [
    "#print(f\"Точность модели по метрике MAPE: {(mape(y_test, y_pred))*100:0.2f}%\")"
   ]
  },
  {
   "cell_type": "markdown",
   "metadata": {},
   "source": [
    "Точность модели 23.38%"
   ]
  },
  {
   "cell_type": "markdown",
   "metadata": {},
   "source": [
    "# RandomForestRegressor"
   ]
  },
  {
   "cell_type": "code",
   "execution_count": null,
   "metadata": {},
   "outputs": [],
   "source": [
    "#model = RandomForestRegressor(random_state=RANDOM_SEED)\n",
    "#model.fit(X_train, y_train)\n",
    "#y_pred = model.predict(X_test)"
   ]
  },
  {
   "cell_type": "code",
   "execution_count": null,
   "metadata": {},
   "outputs": [],
   "source": [
    "#print(f\"Точность модели по метрике MAPE: {(mape(y_test, y_pred))*100:0.2f}%\")"
   ]
  },
  {
   "cell_type": "markdown",
   "metadata": {},
   "source": [
    "Точность модели 18.33%"
   ]
  },
  {
   "cell_type": "code",
   "execution_count": null,
   "metadata": {},
   "outputs": [],
   "source": [
    "model = RandomForestRegressor(random_state=RANDOM_SEED)\n",
    "model.fit(X_train, np.log(y_train))\n",
    "y_pred = np.exp(model.predict(X_test))\n",
    "y_sub = np.exp(model.predict(X_sub))"
   ]
  },
  {
   "cell_type": "code",
   "execution_count": null,
   "metadata": {},
   "outputs": [],
   "source": [
    "print(f\"Точность модели по метрике MAPE: {(mape(y_test, y_pred))*100:0.2f}%\")\n",
    "# 15.84% на ЛБ 13.58%"
   ]
  },
  {
   "cell_type": "code",
   "execution_count": null,
   "metadata": {},
   "outputs": [],
   "source": [
    "#n_estimators = [100, 150, 200, 250, 300, 350, 400]\n",
    "#max_features = ['auto', 'sqrt']\n",
    "#max_depth = [10, 15, 20, 25]\n",
    "#max_depth.append(None)\n",
    "#min_samples_split = [2, 4, 6, 8, 10]\n",
    "#min_samples_leaf = [1, 2, 4]\n",
    "#bootstrap = [True, False]\n",
    "#random_grid = {'n_estimators': n_estimators,\n",
    "#               'max_features': max_features,\n",
    "#               'max_depth': max_depth,\n",
    "#               'min_samples_split': min_samples_split,\n",
    "#               'min_samples_leaf': min_samples_leaf,\n",
    "#               'bootstrap': bootstrap}\n",
    "#\n",
    "#\n",
    "#model_random = RandomizedSearchCV(estimator=model, param_distributions=random_grid, n_iter=10, \n",
    "#                               cv=3, verbose=2, random_state=42, n_jobs=-1)\n",
    "#model_random.fit(X_train, y_train)"
   ]
  },
  {
   "cell_type": "code",
   "execution_count": null,
   "metadata": {},
   "outputs": [],
   "source": [
    "#model_random.best_params_"
   ]
  },
  {
   "cell_type": "code",
   "execution_count": null,
   "metadata": {},
   "outputs": [],
   "source": [
    "#model = RandomForestRegressor(random_state=RANDOM_SEED, n_jobs=-1,verbose=1, n_estimators=250,\n",
    "#                             min_samples_split=8, min_samples_leaf=2, max_features='auto',\n",
    "#                             max_depth=15, bootstrap=True)\n",
    "#model.fit(X_train, y_train)"
   ]
  },
  {
   "cell_type": "code",
   "execution_count": null,
   "metadata": {},
   "outputs": [],
   "source": [
    "#print(f\"Точность модели по метрике MAPE: {(mape(y_test, y_pred))*100:0.2f}%\")\n",
    "# 15.84%"
   ]
  },
  {
   "cell_type": "code",
   "execution_count": null,
   "metadata": {},
   "outputs": [],
   "source": [
    "#model.fit(X_train, np.log(y_train))\n",
    "#y_pred = np.exp(model.predict(X_test))\n",
    "#y_sub = np.exp(model.predict(X_sub))\n",
    "#print(f\"Точность модели по метрике MAPE: {(mape(y_test, y_pred))*100:0.2f}%\")"
   ]
  },
  {
   "cell_type": "markdown",
   "metadata": {},
   "source": [
    "После настройки гиперпараметров точность модели составила 16,43%, на ЛБ 16.38%"
   ]
  },
  {
   "cell_type": "markdown",
   "metadata": {},
   "source": [
    "# ExtraTreesRegressor"
   ]
  },
  {
   "cell_type": "code",
   "execution_count": null,
   "metadata": {},
   "outputs": [],
   "source": [
    "#model = ExtraTreesRegressor(random_state=RANDOM_SEED)\n",
    "#model.fit(X_train, y_train)\n",
    "#y_pred = model.predict(X_test)"
   ]
  },
  {
   "cell_type": "code",
   "execution_count": null,
   "metadata": {},
   "outputs": [],
   "source": [
    "#print(f\"Точность модели по метрике MAPE: {(mape(y_test, y_pred))*100:0.2f}%\")\n",
    "# 18.11%"
   ]
  },
  {
   "cell_type": "code",
   "execution_count": null,
   "metadata": {},
   "outputs": [],
   "source": [
    "#model.fit(X_train, np.log(y_train))\n",
    "#y_pred = np.exp(model.predict(X_test))"
   ]
  },
  {
   "cell_type": "code",
   "execution_count": null,
   "metadata": {},
   "outputs": [],
   "source": [
    "#print(f\"Точность модели по метрике MAPE: {(mape(y_test, y_pred))*100:0.2f}%\")\n",
    "# 15.92%"
   ]
  },
  {
   "cell_type": "code",
   "execution_count": null,
   "metadata": {},
   "outputs": [],
   "source": [
    "#n_estimators = [100, 150, 200, 250, 300, 350, 400, 450, 500]\n",
    "#max_features = ['auto', 'sqrt']\n",
    "#max_depth = [10, 15, 20, 25]\n",
    "#max_depth.append(None)\n",
    "#min_samples_split = [2:10]\n",
    "#min_samples_leaf = [1:4]\n",
    "#bootstrap = [True, False]\n",
    "#random_grid = {'n_estimators': n_estimators,\n",
    "#               'max_features': max_features,\n",
    "#               'max_depth': max_depth,\n",
    "#               'min_samples_split': min_samples_split,\n",
    "#               'min_samples_leaf': min_samples_leaf,\n",
    "#               'bootstrap': bootstrap}\n",
    "#\n",
    "#model_random = RandomizedSearchCV(estimator=model, param_distributions=random_grid, n_iter=10, \n",
    "#                               cv=3, verbose=2, random_state=42, n_jobs=-1)\n",
    "#model_random.fit(X_train, y_train)\n",
    "#\n",
    "#model_random.best_params_"
   ]
  },
  {
   "cell_type": "code",
   "execution_count": null,
   "metadata": {},
   "outputs": [],
   "source": [
    "#model = ExtraTreesRegressor(random_state=RANDOM_SEED, \n",
    "#                            n_jobs=-1, \n",
    "#                            verbose=1, \n",
    "#                            n_estimators = 450, \n",
    "#                            min_samples_split = 5, \n",
    "#                            min_samples_leaf = 3, \n",
    "#                            max_features = 'auto', \n",
    "#                            max_depth = 15, \n",
    "#                            bootstrap = False)\n",
    "#model.fit(X_train, y_train)\n",
    "#y_pred = model.predict(X_test)\n",
    "#print(f\"Точность модели по метрике MAPE: {(mape(y_test, y_pred))*100:0.2f}%\")"
   ]
  },
  {
   "cell_type": "code",
   "execution_count": null,
   "metadata": {},
   "outputs": [],
   "source": [
    "#model.fit(X_train, np.log(y_train))\n",
    "#y_pred = np.exp(model.predict(X_test))\n",
    "#print(f\"Точность модели по метрике MAPE: {(mape(y_test, y_pred))*100:0.2f}%\")"
   ]
  },
  {
   "cell_type": "markdown",
   "metadata": {},
   "source": [
    "Настройка гиперпараметров снова не дала результата. 20% с нелогарифмированной и 17% с логарифмированной ценой."
   ]
  },
  {
   "cell_type": "markdown",
   "metadata": {},
   "source": [
    "# AdaBoostRegressor"
   ]
  },
  {
   "cell_type": "code",
   "execution_count": null,
   "metadata": {},
   "outputs": [],
   "source": [
    "#model = AdaBoostRegressor(random_state=RANDOM_SEED)\n",
    "#model.fit(X_train, y_train)\n",
    "#y_pred = model.predict(X_test)"
   ]
  },
  {
   "cell_type": "code",
   "execution_count": null,
   "metadata": {},
   "outputs": [],
   "source": [
    "#print(f\"Точность модели по метрике MAPE: {(mape(y_test, y_pred))*100:0.2f}%\")\n",
    "#180.86%"
   ]
  },
  {
   "cell_type": "code",
   "execution_count": null,
   "metadata": {},
   "outputs": [],
   "source": [
    "#model.fit(X_train, np.log(y_train))\n",
    "#y_pred = np.exp(model.predict(X_test))"
   ]
  },
  {
   "cell_type": "code",
   "execution_count": null,
   "metadata": {},
   "outputs": [],
   "source": [
    "#print(f\"Точность модели по метрике MAPE: {(mape(y_test, y_pred))*100:0.2f}%\")\n",
    "#36.29%"
   ]
  },
  {
   "cell_type": "markdown",
   "metadata": {},
   "source": [
    "# GradientBoosting"
   ]
  },
  {
   "cell_type": "code",
   "execution_count": null,
   "metadata": {},
   "outputs": [],
   "source": [
    "#model = GradientBoostingRegressor(random_state=RANDOM_SEED)\n",
    "#model.fit(X_train, y_train)\n",
    "#y_pred = model.predict(X_test)"
   ]
  },
  {
   "cell_type": "code",
   "execution_count": null,
   "metadata": {},
   "outputs": [],
   "source": [
    "#print(f\"Точность модели по метрике MAPE: {(mape(y_test, y_pred))*100:0.2f}%\")\n",
    "#33.22%"
   ]
  },
  {
   "cell_type": "code",
   "execution_count": null,
   "metadata": {},
   "outputs": [],
   "source": [
    "#model.fit(X_train, np.log(y_train))\n",
    "#y_pred = np.exp(model.predict(X_test))\n",
    "#print(f\"Точность модели по метрике MAPE: {(mape(y_test, y_pred))*100:0.2f}%\")\n",
    "#23.16%"
   ]
  },
  {
   "cell_type": "markdown",
   "metadata": {},
   "source": [
    "# BaggingRegressor"
   ]
  },
  {
   "cell_type": "code",
   "execution_count": null,
   "metadata": {},
   "outputs": [],
   "source": [
    "#model = BaggingRegressor(random_state=RANDOM_SEED)\n",
    "#model.fit(X_train, y_train)\n",
    "#y_pred = model.predict(X_test)\n",
    "#print(f\"Точность модели по метрике MAPE: {(mape(y_test, y_pred))*100:0.2f}%\")\n",
    "#19.10#"
   ]
  },
  {
   "cell_type": "code",
   "execution_count": null,
   "metadata": {},
   "outputs": [],
   "source": [
    "#model.fit(X_train, np.log(y_train))\n",
    "#y_pred = np.exp(model.predict(X_test))\n",
    "#print(f\"Точность модели по метрике MAPE: {(mape(y_test, y_pred))*100:0.2f}%\")\n",
    "#16.85%"
   ]
  },
  {
   "cell_type": "markdown",
   "metadata": {},
   "source": [
    "# Стакинг\n",
    "\n",
    "Объединим BaggingRegressor, ExtraTreesRegressor и RandomForestRegressor, которые самостоятельно давали хорошие результаты. В качестве мета-алгоритма используем LinearRegression"
   ]
  },
  {
   "cell_type": "code",
   "execution_count": null,
   "metadata": {},
   "outputs": [],
   "source": [
    "#estimators = [\n",
    "#    ('etr', ExtraTreesRegressor(random_state=RANDOM_SEED, n_jobs=-1, verbose=1)),\n",
    "#    ('bagr', BaggingRegressor(random_state=RANDOM_SEED)),\n",
    "#    ('cfr', RandomForestRegressor(random_state=RANDOM_SEED))\n",
    "#             ]\n",
    "#\n",
    "#stack_log = StackingRegressor(estimators=estimators,\n",
    "#                              final_estimator=LinearRegression()\n",
    "#                              )\n",
    "#\n",
    "#stack_log.fit(X_train, np.log(y_train))\n",
    "#\n",
    "#y_pred = np.exp(stack_log.predict(X_test))\n",
    "#\n",
    "#print(f\"Точность модели по метрике MAPE: {(mape(y_test, y_pred) * 100):0.2f}%.\")"
   ]
  },
  {
   "cell_type": "code",
   "execution_count": null,
   "metadata": {},
   "outputs": [],
   "source": [
    "#y_sub = np.exp(stack_log.predict(X_sub))"
   ]
  },
  {
   "cell_type": "markdown",
   "metadata": {},
   "source": [
    "Точность модели 15.52%, на ЛБ 20.12%"
   ]
  },
  {
   "cell_type": "code",
   "execution_count": null,
   "metadata": {},
   "outputs": [],
   "source": []
  },
  {
   "cell_type": "markdown",
   "metadata": {
    "papermill": {
     "duration": 0.085876,
     "end_time": "2020-10-26T12:48:12.734207",
     "exception": false,
     "start_time": "2020-10-26T12:48:12.648331",
     "status": "completed"
    },
    "tags": []
   },
   "source": [
    "# Submission"
   ]
  },
  {
   "cell_type": "code",
   "execution_count": null,
   "metadata": {
    "papermill": {
     "duration": 0.628302,
     "end_time": "2020-10-26T12:48:13.763488",
     "exception": false,
     "start_time": "2020-10-26T12:48:13.135186",
     "status": "completed"
    },
    "tags": []
   },
   "outputs": [],
   "source": [
    "sample_submission['price'] = y_sub\n",
    "sample_submission.to_csv(f'submission_2_v{VERSION}.csv', index=False)\n",
    "sample_submission.head(10)"
   ]
  },
  {
   "cell_type": "code",
   "execution_count": null,
   "metadata": {
    "papermill": {
     "duration": 0.082055,
     "end_time": "2020-10-26T12:48:14.270602",
     "exception": false,
     "start_time": "2020-10-26T12:48:14.188547",
     "status": "completed"
    },
    "tags": []
   },
   "outputs": [],
   "source": []
  },
  {
   "cell_type": "code",
   "execution_count": null,
   "metadata": {
    "papermill": {
     "duration": 0.08168,
     "end_time": "2020-10-26T12:48:14.435554",
     "exception": false,
     "start_time": "2020-10-26T12:48:14.353874",
     "status": "completed"
    },
    "tags": []
   },
   "outputs": [],
   "source": []
  },
  {
   "cell_type": "code",
   "execution_count": null,
   "metadata": {
    "papermill": {
     "duration": 0.080788,
     "end_time": "2020-10-26T12:48:14.596978",
     "exception": false,
     "start_time": "2020-10-26T12:48:14.51619",
     "status": "completed"
    },
    "tags": []
   },
   "outputs": [],
   "source": []
  },
  {
   "cell_type": "code",
   "execution_count": null,
   "metadata": {},
   "outputs": [],
   "source": []
  },
  {
   "cell_type": "code",
   "execution_count": null,
   "metadata": {},
   "outputs": [],
   "source": []
  }
 ],
 "metadata": {
  "kernelspec": {
   "display_name": "Python 3",
   "language": "python",
   "name": "python3"
  },
  "language_info": {
   "codemirror_mode": {
    "name": "ipython",
    "version": 3
   },
   "file_extension": ".py",
   "mimetype": "text/x-python",
   "name": "python",
   "nbconvert_exporter": "python",
   "pygments_lexer": "ipython3",
   "version": "3.8.5"
  }
 },
 "nbformat": 4,
 "nbformat_minor": 4
}
